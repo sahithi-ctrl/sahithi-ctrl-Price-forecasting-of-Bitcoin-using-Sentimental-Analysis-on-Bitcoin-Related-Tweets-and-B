{
 "cells": [
  {
   "cell_type": "markdown",
   "metadata": {},
   "source": [
    "# Quick Introduction\n",
    "\n",
    "In this project, we aim to predict the price of bitcoin using sentiment analysis and finalcial features to support the sentiment.\n",
    "\n",
    "We will compute the error (Mean absolute error of two models we developed to predict the prices)\n",
    "\n",
    "The two models are:\n",
    "1. Random Forrest Regression\n",
    "2. Linear Regression\n",
    "\n",
    "The sentiment was detected using Vader, used to detect polarity"
   ]
  },
  {
   "cell_type": "code",
   "execution_count": null,
   "metadata": {},
   "outputs": [],
   "source": [
    "#import libraries to import the data\n",
    "import pandas as pd\n",
    "import numpy as np\n",
    "import re\n",
    "!pip install clean-text"
   ]
  },
  {
   "cell_type": "code",
   "execution_count": 104,
   "metadata": {},
   "outputs": [
    {
     "name": "stderr",
     "output_type": "stream",
     "text": [
      "/Users/arjun/opt/anaconda3/lib/python3.7/site-packages/IPython/core/interactiveshell.py:3058: DtypeWarning: Columns (4,5,6,7,12) have mixed types. Specify dtype option on import or set low_memory=False.\n",
      "  interactivity=interactivity, compiler=compiler, result=result)\n"
     ]
    }
   ],
   "source": [
    "# Since Elon only started tweeting about crypto from 2019, lets only include tweets from 2019,2020,2021,2022\n",
    "\n",
    "elon_tweets_2019 = pd.read_csv('2019.csv')\n",
    "elon_tweets_2020 = pd.read_csv('2020.csv')\n",
    "elon_tweets_2021 = pd.read_csv('2021.csv')\n",
    "elon_tweets_2022 = pd.read_csv('2022.csv')\n",
    "\n",
    "# we would also be forcasting in bitcoin tweets from 2021 on general, to make our results more generalizable. we chose 2021\n",
    "# because the volume of bitcoin tweets in 2021 has skyrocketed.\n",
    "\n",
    "bitcoin_tweets_2021 = pd.read_csv('Bitcoin_tweets.csv')"
   ]
  },
  {
   "cell_type": "code",
   "execution_count": 105,
   "metadata": {},
   "outputs": [
    {
     "name": "stderr",
     "output_type": "stream",
     "text": [
      "/Users/arjun/opt/anaconda3/lib/python3.7/site-packages/ipykernel_launcher.py:2: FutureWarning: Sorting because non-concatenation axis is not aligned. A future version\n",
      "of pandas will change to not sort by default.\n",
      "\n",
      "To accept the future behavior, pass 'sort=False'.\n",
      "\n",
      "To retain the current behavior and silence the warning, pass 'sort=True'.\n",
      "\n",
      "  \n"
     ]
    }
   ],
   "source": [
    "# combining all tweets from elon musk 2019-2022\n",
    "elon_tweets = pd.concat([elon_tweets_2019, elon_tweets_2020, elon_tweets_2021,elon_tweets_2022], axis = 0)\n",
    "elon_tweets = elon_tweets.reset_index(drop=True)"
   ]
  },
  {
   "cell_type": "code",
   "execution_count": 4,
   "metadata": {},
   "outputs": [
    {
     "data": {
      "text/html": [
       "<div>\n",
       "<style scoped>\n",
       "    .dataframe tbody tr th:only-of-type {\n",
       "        vertical-align: middle;\n",
       "    }\n",
       "\n",
       "    .dataframe tbody tr th {\n",
       "        vertical-align: top;\n",
       "    }\n",
       "\n",
       "    .dataframe thead th {\n",
       "        text-align: right;\n",
       "    }\n",
       "</style>\n",
       "<table border=\"1\" class=\"dataframe\">\n",
       "  <thead>\n",
       "    <tr style=\"text-align: right;\">\n",
       "      <th></th>\n",
       "      <th>Unnamed: 0</th>\n",
       "      <th>cashtags</th>\n",
       "      <th>conversation_id</th>\n",
       "      <th>created_at</th>\n",
       "      <th>date</th>\n",
       "      <th>day</th>\n",
       "      <th>geo</th>\n",
       "      <th>hashtags</th>\n",
       "      <th>hour</th>\n",
       "      <th>id</th>\n",
       "      <th>...</th>\n",
       "      <th>trans_src</th>\n",
       "      <th>translate</th>\n",
       "      <th>tweet</th>\n",
       "      <th>urls</th>\n",
       "      <th>user_id</th>\n",
       "      <th>user_id_str</th>\n",
       "      <th>user_rt</th>\n",
       "      <th>user_rt_id</th>\n",
       "      <th>username</th>\n",
       "      <th>video</th>\n",
       "    </tr>\n",
       "  </thead>\n",
       "  <tbody>\n",
       "    <tr>\n",
       "      <td>0</td>\n",
       "      <td>0.0</td>\n",
       "      <td>[]</td>\n",
       "      <td>1210918835861241856</td>\n",
       "      <td>1.57758e+12</td>\n",
       "      <td>2019-12-28 23:47:59</td>\n",
       "      <td>6.0</td>\n",
       "      <td>NaN</td>\n",
       "      <td>[]</td>\n",
       "      <td>23.0</td>\n",
       "      <td>1211071324518531072</td>\n",
       "      <td>...</td>\n",
       "      <td>NaN</td>\n",
       "      <td>NaN</td>\n",
       "      <td>@Joe__Wakefield @austinbarnard45 @tjq1190 @tyg...</td>\n",
       "      <td>[]</td>\n",
       "      <td>44196397</td>\n",
       "      <td>44196397.0</td>\n",
       "      <td>NaN</td>\n",
       "      <td>NaN</td>\n",
       "      <td>elonmusk</td>\n",
       "      <td>0</td>\n",
       "    </tr>\n",
       "    <tr>\n",
       "      <td>1</td>\n",
       "      <td>1.0</td>\n",
       "      <td>[]</td>\n",
       "      <td>1210918835861241856</td>\n",
       "      <td>1.57758e+12</td>\n",
       "      <td>2019-12-28 23:38:57</td>\n",
       "      <td>6.0</td>\n",
       "      <td>NaN</td>\n",
       "      <td>[]</td>\n",
       "      <td>23.0</td>\n",
       "      <td>1211069054779301894</td>\n",
       "      <td>...</td>\n",
       "      <td>NaN</td>\n",
       "      <td>NaN</td>\n",
       "      <td>@austinbarnard45 @tjq1190 @tyger_cyber @fawful...</td>\n",
       "      <td>[]</td>\n",
       "      <td>44196397</td>\n",
       "      <td>44196397.0</td>\n",
       "      <td>NaN</td>\n",
       "      <td>NaN</td>\n",
       "      <td>elonmusk</td>\n",
       "      <td>0</td>\n",
       "    </tr>\n",
       "    <tr>\n",
       "      <td>2</td>\n",
       "      <td>2.0</td>\n",
       "      <td>[]</td>\n",
       "      <td>1210918835861241856</td>\n",
       "      <td>1.57758e+12</td>\n",
       "      <td>2019-12-28 23:22:36</td>\n",
       "      <td>6.0</td>\n",
       "      <td>NaN</td>\n",
       "      <td>[]</td>\n",
       "      <td>23.0</td>\n",
       "      <td>1211064937004589056</td>\n",
       "      <td>...</td>\n",
       "      <td>NaN</td>\n",
       "      <td>NaN</td>\n",
       "      <td>@IrinaAntony @tjq1190 @tyger_cyber @fawfulfan ...</td>\n",
       "      <td>[]</td>\n",
       "      <td>44196397</td>\n",
       "      <td>44196397.0</td>\n",
       "      <td>NaN</td>\n",
       "      <td>NaN</td>\n",
       "      <td>elonmusk</td>\n",
       "      <td>0</td>\n",
       "    </tr>\n",
       "    <tr>\n",
       "      <td>3</td>\n",
       "      <td>3.0</td>\n",
       "      <td>[]</td>\n",
       "      <td>1210918835861241856</td>\n",
       "      <td>1.57757e+12</td>\n",
       "      <td>2019-12-28 22:42:53</td>\n",
       "      <td>6.0</td>\n",
       "      <td>NaN</td>\n",
       "      <td>[]</td>\n",
       "      <td>22.0</td>\n",
       "      <td>1211054942192119808</td>\n",
       "      <td>...</td>\n",
       "      <td>NaN</td>\n",
       "      <td>NaN</td>\n",
       "      <td>@tjq1190 @tyger_cyber @fawfulfan @_Mikemo He d...</td>\n",
       "      <td>[]</td>\n",
       "      <td>44196397</td>\n",
       "      <td>44196397.0</td>\n",
       "      <td>NaN</td>\n",
       "      <td>NaN</td>\n",
       "      <td>elonmusk</td>\n",
       "      <td>0</td>\n",
       "    </tr>\n",
       "    <tr>\n",
       "      <td>4</td>\n",
       "      <td>4.0</td>\n",
       "      <td>[]</td>\n",
       "      <td>1210774027054145536</td>\n",
       "      <td>1.57757e+12</td>\n",
       "      <td>2019-12-28 22:30:09</td>\n",
       "      <td>6.0</td>\n",
       "      <td>NaN</td>\n",
       "      <td>[]</td>\n",
       "      <td>22.0</td>\n",
       "      <td>1211051740562366464</td>\n",
       "      <td>...</td>\n",
       "      <td>NaN</td>\n",
       "      <td>NaN</td>\n",
       "      <td>@geofficient Pretty much</td>\n",
       "      <td>[]</td>\n",
       "      <td>44196397</td>\n",
       "      <td>44196397.0</td>\n",
       "      <td>NaN</td>\n",
       "      <td>NaN</td>\n",
       "      <td>elonmusk</td>\n",
       "      <td>0</td>\n",
       "    </tr>\n",
       "    <tr>\n",
       "      <td>...</td>\n",
       "      <td>...</td>\n",
       "      <td>...</td>\n",
       "      <td>...</td>\n",
       "      <td>...</td>\n",
       "      <td>...</td>\n",
       "      <td>...</td>\n",
       "      <td>...</td>\n",
       "      <td>...</td>\n",
       "      <td>...</td>\n",
       "      <td>...</td>\n",
       "      <td>...</td>\n",
       "      <td>...</td>\n",
       "      <td>...</td>\n",
       "      <td>...</td>\n",
       "      <td>...</td>\n",
       "      <td>...</td>\n",
       "      <td>...</td>\n",
       "      <td>...</td>\n",
       "      <td>...</td>\n",
       "      <td>...</td>\n",
       "      <td>...</td>\n",
       "    </tr>\n",
       "    <tr>\n",
       "      <td>24167</td>\n",
       "      <td>NaN</td>\n",
       "      <td>[]</td>\n",
       "      <td>1477775713172402176</td>\n",
       "      <td>2022-01-03 02:56:00 Arabian Standard Time</td>\n",
       "      <td>2022-01-03</td>\n",
       "      <td>NaN</td>\n",
       "      <td>NaN</td>\n",
       "      <td>[]</td>\n",
       "      <td>NaN</td>\n",
       "      <td>1477775713172402176</td>\n",
       "      <td>...</td>\n",
       "      <td>NaN</td>\n",
       "      <td>NaN</td>\n",
       "      <td>https://t.co/LA9hPzVlGx</td>\n",
       "      <td>[]</td>\n",
       "      <td>44196397</td>\n",
       "      <td>NaN</td>\n",
       "      <td>NaN</td>\n",
       "      <td>NaN</td>\n",
       "      <td>elonmusk</td>\n",
       "      <td>1</td>\n",
       "    </tr>\n",
       "    <tr>\n",
       "      <td>24168</td>\n",
       "      <td>NaN</td>\n",
       "      <td>[]</td>\n",
       "      <td>1477706142461706248</td>\n",
       "      <td>2022-01-02 22:19:33 Arabian Standard Time</td>\n",
       "      <td>2022-01-02</td>\n",
       "      <td>NaN</td>\n",
       "      <td>NaN</td>\n",
       "      <td>[]</td>\n",
       "      <td>NaN</td>\n",
       "      <td>1477706142461706248</td>\n",
       "      <td>...</td>\n",
       "      <td>NaN</td>\n",
       "      <td>NaN</td>\n",
       "      <td>Let’s make the roaring 20’s happen!</td>\n",
       "      <td>[]</td>\n",
       "      <td>44196397</td>\n",
       "      <td>NaN</td>\n",
       "      <td>NaN</td>\n",
       "      <td>NaN</td>\n",
       "      <td>elonmusk</td>\n",
       "      <td>0</td>\n",
       "    </tr>\n",
       "    <tr>\n",
       "      <td>24169</td>\n",
       "      <td>NaN</td>\n",
       "      <td>[]</td>\n",
       "      <td>1477700424933253123</td>\n",
       "      <td>2022-01-02 21:56:50 Arabian Standard Time</td>\n",
       "      <td>2022-01-02</td>\n",
       "      <td>NaN</td>\n",
       "      <td>NaN</td>\n",
       "      <td>[]</td>\n",
       "      <td>NaN</td>\n",
       "      <td>1477700424933253123</td>\n",
       "      <td>...</td>\n",
       "      <td>NaN</td>\n",
       "      <td>NaN</td>\n",
       "      <td>Great work by Tesla team worldwide!</td>\n",
       "      <td>[]</td>\n",
       "      <td>44196397</td>\n",
       "      <td>NaN</td>\n",
       "      <td>NaN</td>\n",
       "      <td>NaN</td>\n",
       "      <td>elonmusk</td>\n",
       "      <td>0</td>\n",
       "    </tr>\n",
       "    <tr>\n",
       "      <td>24170</td>\n",
       "      <td>NaN</td>\n",
       "      <td>[]</td>\n",
       "      <td>1476958174439567360</td>\n",
       "      <td>2022-01-01 05:58:52 Arabian Standard Time</td>\n",
       "      <td>2022-01-01</td>\n",
       "      <td>NaN</td>\n",
       "      <td>NaN</td>\n",
       "      <td>[]</td>\n",
       "      <td>NaN</td>\n",
       "      <td>1477096955658579974</td>\n",
       "      <td>...</td>\n",
       "      <td>NaN</td>\n",
       "      <td>NaN</td>\n",
       "      <td>@BLKMDL3 @Tesla 🔥</td>\n",
       "      <td>[]</td>\n",
       "      <td>44196397</td>\n",
       "      <td>NaN</td>\n",
       "      <td>NaN</td>\n",
       "      <td>NaN</td>\n",
       "      <td>elonmusk</td>\n",
       "      <td>0</td>\n",
       "    </tr>\n",
       "    <tr>\n",
       "      <td>24171</td>\n",
       "      <td>NaN</td>\n",
       "      <td>[]</td>\n",
       "      <td>1476768985509212162</td>\n",
       "      <td>2022-01-01 04:53:13 Arabian Standard Time</td>\n",
       "      <td>2022-01-01</td>\n",
       "      <td>NaN</td>\n",
       "      <td>NaN</td>\n",
       "      <td>[]</td>\n",
       "      <td>NaN</td>\n",
       "      <td>1477080438049058818</td>\n",
       "      <td>...</td>\n",
       "      <td>NaN</td>\n",
       "      <td>NaN</td>\n",
       "      <td>@MiFSDBetaTester @WholeMarsBlog 🤣</td>\n",
       "      <td>[]</td>\n",
       "      <td>44196397</td>\n",
       "      <td>NaN</td>\n",
       "      <td>NaN</td>\n",
       "      <td>NaN</td>\n",
       "      <td>elonmusk</td>\n",
       "      <td>0</td>\n",
       "    </tr>\n",
       "  </tbody>\n",
       "</table>\n",
       "<p>24172 rows × 44 columns</p>\n",
       "</div>"
      ],
      "text/plain": [
       "       Unnamed: 0 cashtags      conversation_id  \\\n",
       "0             0.0       []  1210918835861241856   \n",
       "1             1.0       []  1210918835861241856   \n",
       "2             2.0       []  1210918835861241856   \n",
       "3             3.0       []  1210918835861241856   \n",
       "4             4.0       []  1210774027054145536   \n",
       "...           ...      ...                  ...   \n",
       "24167         NaN       []  1477775713172402176   \n",
       "24168         NaN       []  1477706142461706248   \n",
       "24169         NaN       []  1477700424933253123   \n",
       "24170         NaN       []  1476958174439567360   \n",
       "24171         NaN       []  1476768985509212162   \n",
       "\n",
       "                                      created_at                 date  day  \\\n",
       "0                                    1.57758e+12  2019-12-28 23:47:59  6.0   \n",
       "1                                    1.57758e+12  2019-12-28 23:38:57  6.0   \n",
       "2                                    1.57758e+12  2019-12-28 23:22:36  6.0   \n",
       "3                                    1.57757e+12  2019-12-28 22:42:53  6.0   \n",
       "4                                    1.57757e+12  2019-12-28 22:30:09  6.0   \n",
       "...                                          ...                  ...  ...   \n",
       "24167  2022-01-03 02:56:00 Arabian Standard Time           2022-01-03  NaN   \n",
       "24168  2022-01-02 22:19:33 Arabian Standard Time           2022-01-02  NaN   \n",
       "24169  2022-01-02 21:56:50 Arabian Standard Time           2022-01-02  NaN   \n",
       "24170  2022-01-01 05:58:52 Arabian Standard Time           2022-01-01  NaN   \n",
       "24171  2022-01-01 04:53:13 Arabian Standard Time           2022-01-01  NaN   \n",
       "\n",
       "       geo hashtags  hour                   id  ... trans_src  translate  \\\n",
       "0      NaN       []  23.0  1211071324518531072  ...       NaN        NaN   \n",
       "1      NaN       []  23.0  1211069054779301894  ...       NaN        NaN   \n",
       "2      NaN       []  23.0  1211064937004589056  ...       NaN        NaN   \n",
       "3      NaN       []  22.0  1211054942192119808  ...       NaN        NaN   \n",
       "4      NaN       []  22.0  1211051740562366464  ...       NaN        NaN   \n",
       "...    ...      ...   ...                  ...  ...       ...        ...   \n",
       "24167  NaN       []   NaN  1477775713172402176  ...       NaN        NaN   \n",
       "24168  NaN       []   NaN  1477706142461706248  ...       NaN        NaN   \n",
       "24169  NaN       []   NaN  1477700424933253123  ...       NaN        NaN   \n",
       "24170  NaN       []   NaN  1477096955658579974  ...       NaN        NaN   \n",
       "24171  NaN       []   NaN  1477080438049058818  ...       NaN        NaN   \n",
       "\n",
       "                                                   tweet urls   user_id  \\\n",
       "0      @Joe__Wakefield @austinbarnard45 @tjq1190 @tyg...   []  44196397   \n",
       "1      @austinbarnard45 @tjq1190 @tyger_cyber @fawful...   []  44196397   \n",
       "2      @IrinaAntony @tjq1190 @tyger_cyber @fawfulfan ...   []  44196397   \n",
       "3      @tjq1190 @tyger_cyber @fawfulfan @_Mikemo He d...   []  44196397   \n",
       "4                               @geofficient Pretty much   []  44196397   \n",
       "...                                                  ...  ...       ...   \n",
       "24167                            https://t.co/LA9hPzVlGx   []  44196397   \n",
       "24168                Let’s make the roaring 20’s happen!   []  44196397   \n",
       "24169                Great work by Tesla team worldwide!   []  44196397   \n",
       "24170                                  @BLKMDL3 @Tesla 🔥   []  44196397   \n",
       "24171                  @MiFSDBetaTester @WholeMarsBlog 🤣   []  44196397   \n",
       "\n",
       "       user_id_str  user_rt  user_rt_id  username video  \n",
       "0       44196397.0      NaN         NaN  elonmusk     0  \n",
       "1       44196397.0      NaN         NaN  elonmusk     0  \n",
       "2       44196397.0      NaN         NaN  elonmusk     0  \n",
       "3       44196397.0      NaN         NaN  elonmusk     0  \n",
       "4       44196397.0      NaN         NaN  elonmusk     0  \n",
       "...            ...      ...         ...       ...   ...  \n",
       "24167          NaN      NaN         NaN  elonmusk     1  \n",
       "24168          NaN      NaN         NaN  elonmusk     0  \n",
       "24169          NaN      NaN         NaN  elonmusk     0  \n",
       "24170          NaN      NaN         NaN  elonmusk     0  \n",
       "24171          NaN      NaN         NaN  elonmusk     0  \n",
       "\n",
       "[24172 rows x 44 columns]"
      ]
     },
     "execution_count": 4,
     "metadata": {},
     "output_type": "execute_result"
    }
   ],
   "source": [
    "\n",
    "elon_tweets"
   ]
  },
  {
   "cell_type": "code",
   "execution_count": 5,
   "metadata": {},
   "outputs": [
    {
     "data": {
      "text/html": [
       "<div>\n",
       "<style scoped>\n",
       "    .dataframe tbody tr th:only-of-type {\n",
       "        vertical-align: middle;\n",
       "    }\n",
       "\n",
       "    .dataframe tbody tr th {\n",
       "        vertical-align: top;\n",
       "    }\n",
       "\n",
       "    .dataframe thead th {\n",
       "        text-align: right;\n",
       "    }\n",
       "</style>\n",
       "<table border=\"1\" class=\"dataframe\">\n",
       "  <thead>\n",
       "    <tr style=\"text-align: right;\">\n",
       "      <th></th>\n",
       "      <th>Unnamed: 0</th>\n",
       "      <th>conversation_id</th>\n",
       "      <th>day</th>\n",
       "      <th>geo</th>\n",
       "      <th>hour</th>\n",
       "      <th>id</th>\n",
       "      <th>likes_count</th>\n",
       "      <th>near</th>\n",
       "      <th>nlikes</th>\n",
       "      <th>nreplies</th>\n",
       "      <th>...</th>\n",
       "      <th>source</th>\n",
       "      <th>timezone</th>\n",
       "      <th>trans_dest</th>\n",
       "      <th>trans_src</th>\n",
       "      <th>translate</th>\n",
       "      <th>user_id</th>\n",
       "      <th>user_id_str</th>\n",
       "      <th>user_rt</th>\n",
       "      <th>user_rt_id</th>\n",
       "      <th>video</th>\n",
       "    </tr>\n",
       "  </thead>\n",
       "  <tbody>\n",
       "    <tr>\n",
       "      <td>count</td>\n",
       "      <td>20029.000000</td>\n",
       "      <td>2.417200e+04</td>\n",
       "      <td>20029.000000</td>\n",
       "      <td>0.0</td>\n",
       "      <td>20029.000000</td>\n",
       "      <td>2.417200e+04</td>\n",
       "      <td>4143.000000</td>\n",
       "      <td>0.0</td>\n",
       "      <td>2.002900e+04</td>\n",
       "      <td>20029.000000</td>\n",
       "      <td>...</td>\n",
       "      <td>0.0</td>\n",
       "      <td>24172.000000</td>\n",
       "      <td>0.0</td>\n",
       "      <td>0.0</td>\n",
       "      <td>0.0</td>\n",
       "      <td>24172.0</td>\n",
       "      <td>20029.0</td>\n",
       "      <td>0.0</td>\n",
       "      <td>0.0</td>\n",
       "      <td>24172.000000</td>\n",
       "    </tr>\n",
       "    <tr>\n",
       "      <td>mean</td>\n",
       "      <td>5151.465475</td>\n",
       "      <td>1.059613e+18</td>\n",
       "      <td>4.135054</td>\n",
       "      <td>NaN</td>\n",
       "      <td>12.445504</td>\n",
       "      <td>1.061956e+18</td>\n",
       "      <td>49953.278059</td>\n",
       "      <td>NaN</td>\n",
       "      <td>1.596744e+04</td>\n",
       "      <td>452.085176</td>\n",
       "      <td>...</td>\n",
       "      <td>NaN</td>\n",
       "      <td>68.558663</td>\n",
       "      <td>NaN</td>\n",
       "      <td>NaN</td>\n",
       "      <td>NaN</td>\n",
       "      <td>44196397.0</td>\n",
       "      <td>44196397.0</td>\n",
       "      <td>NaN</td>\n",
       "      <td>NaN</td>\n",
       "      <td>0.063627</td>\n",
       "    </tr>\n",
       "    <tr>\n",
       "      <td>std</td>\n",
       "      <td>3128.308904</td>\n",
       "      <td>3.026564e+17</td>\n",
       "      <td>1.969430</td>\n",
       "      <td>NaN</td>\n",
       "      <td>7.767980</td>\n",
       "      <td>3.008595e+17</td>\n",
       "      <td>103849.982613</td>\n",
       "      <td>NaN</td>\n",
       "      <td>5.119675e+04</td>\n",
       "      <td>1547.741292</td>\n",
       "      <td>...</td>\n",
       "      <td>NaN</td>\n",
       "      <td>150.745199</td>\n",
       "      <td>NaN</td>\n",
       "      <td>NaN</td>\n",
       "      <td>NaN</td>\n",
       "      <td>0.0</td>\n",
       "      <td>0.0</td>\n",
       "      <td>NaN</td>\n",
       "      <td>NaN</td>\n",
       "      <td>0.244093</td>\n",
       "    </tr>\n",
       "    <tr>\n",
       "      <td>min</td>\n",
       "      <td>0.000000</td>\n",
       "      <td>1.659576e+09</td>\n",
       "      <td>1.000000</td>\n",
       "      <td>NaN</td>\n",
       "      <td>0.000000</td>\n",
       "      <td>1.543473e+10</td>\n",
       "      <td>850.000000</td>\n",
       "      <td>NaN</td>\n",
       "      <td>2.000000e+00</td>\n",
       "      <td>0.000000</td>\n",
       "      <td>...</td>\n",
       "      <td>NaN</td>\n",
       "      <td>0.000000</td>\n",
       "      <td>NaN</td>\n",
       "      <td>NaN</td>\n",
       "      <td>NaN</td>\n",
       "      <td>44196397.0</td>\n",
       "      <td>44196397.0</td>\n",
       "      <td>NaN</td>\n",
       "      <td>NaN</td>\n",
       "      <td>0.000000</td>\n",
       "    </tr>\n",
       "    <tr>\n",
       "      <td>25%</td>\n",
       "      <td>2503.000000</td>\n",
       "      <td>9.178526e+17</td>\n",
       "      <td>2.000000</td>\n",
       "      <td>NaN</td>\n",
       "      <td>5.000000</td>\n",
       "      <td>9.215870e+17</td>\n",
       "      <td>5109.000000</td>\n",
       "      <td>NaN</td>\n",
       "      <td>7.170000e+02</td>\n",
       "      <td>38.000000</td>\n",
       "      <td>...</td>\n",
       "      <td>NaN</td>\n",
       "      <td>0.000000</td>\n",
       "      <td>NaN</td>\n",
       "      <td>NaN</td>\n",
       "      <td>NaN</td>\n",
       "      <td>44196397.0</td>\n",
       "      <td>44196397.0</td>\n",
       "      <td>NaN</td>\n",
       "      <td>NaN</td>\n",
       "      <td>0.000000</td>\n",
       "    </tr>\n",
       "    <tr>\n",
       "      <td>50%</td>\n",
       "      <td>5007.000000</td>\n",
       "      <td>1.108829e+18</td>\n",
       "      <td>4.000000</td>\n",
       "      <td>NaN</td>\n",
       "      <td>15.000000</td>\n",
       "      <td>1.110576e+18</td>\n",
       "      <td>10398.000000</td>\n",
       "      <td>NaN</td>\n",
       "      <td>1.874000e+03</td>\n",
       "      <td>92.000000</td>\n",
       "      <td>...</td>\n",
       "      <td>NaN</td>\n",
       "      <td>0.000000</td>\n",
       "      <td>NaN</td>\n",
       "      <td>NaN</td>\n",
       "      <td>NaN</td>\n",
       "      <td>44196397.0</td>\n",
       "      <td>44196397.0</td>\n",
       "      <td>NaN</td>\n",
       "      <td>NaN</td>\n",
       "      <td>0.000000</td>\n",
       "    </tr>\n",
       "    <tr>\n",
       "      <td>75%</td>\n",
       "      <td>7510.000000</td>\n",
       "      <td>1.266508e+18</td>\n",
       "      <td>6.000000</td>\n",
       "      <td>NaN</td>\n",
       "      <td>19.000000</td>\n",
       "      <td>1.269111e+18</td>\n",
       "      <td>33697.500000</td>\n",
       "      <td>NaN</td>\n",
       "      <td>9.082000e+03</td>\n",
       "      <td>306.000000</td>\n",
       "      <td>...</td>\n",
       "      <td>NaN</td>\n",
       "      <td>0.000000</td>\n",
       "      <td>NaN</td>\n",
       "      <td>NaN</td>\n",
       "      <td>NaN</td>\n",
       "      <td>44196397.0</td>\n",
       "      <td>44196397.0</td>\n",
       "      <td>NaN</td>\n",
       "      <td>NaN</td>\n",
       "      <td>0.000000</td>\n",
       "    </tr>\n",
       "    <tr>\n",
       "      <td>max</td>\n",
       "      <td>11716.000000</td>\n",
       "      <td>1.499977e+18</td>\n",
       "      <td>7.000000</td>\n",
       "      <td>NaN</td>\n",
       "      <td>23.000000</td>\n",
       "      <td>1.500030e+18</td>\n",
       "      <td>963257.000000</td>\n",
       "      <td>NaN</td>\n",
       "      <td>1.596525e+06</td>\n",
       "      <td>45699.000000</td>\n",
       "      <td>...</td>\n",
       "      <td>NaN</td>\n",
       "      <td>400.000000</td>\n",
       "      <td>NaN</td>\n",
       "      <td>NaN</td>\n",
       "      <td>NaN</td>\n",
       "      <td>44196397.0</td>\n",
       "      <td>44196397.0</td>\n",
       "      <td>NaN</td>\n",
       "      <td>NaN</td>\n",
       "      <td>1.000000</td>\n",
       "    </tr>\n",
       "  </tbody>\n",
       "</table>\n",
       "<p>8 rows × 26 columns</p>\n",
       "</div>"
      ],
      "text/plain": [
       "         Unnamed: 0  conversation_id           day  geo          hour  \\\n",
       "count  20029.000000     2.417200e+04  20029.000000  0.0  20029.000000   \n",
       "mean    5151.465475     1.059613e+18      4.135054  NaN     12.445504   \n",
       "std     3128.308904     3.026564e+17      1.969430  NaN      7.767980   \n",
       "min        0.000000     1.659576e+09      1.000000  NaN      0.000000   \n",
       "25%     2503.000000     9.178526e+17      2.000000  NaN      5.000000   \n",
       "50%     5007.000000     1.108829e+18      4.000000  NaN     15.000000   \n",
       "75%     7510.000000     1.266508e+18      6.000000  NaN     19.000000   \n",
       "max    11716.000000     1.499977e+18      7.000000  NaN     23.000000   \n",
       "\n",
       "                 id    likes_count  near        nlikes      nreplies  ...  \\\n",
       "count  2.417200e+04    4143.000000   0.0  2.002900e+04  20029.000000  ...   \n",
       "mean   1.061956e+18   49953.278059   NaN  1.596744e+04    452.085176  ...   \n",
       "std    3.008595e+17  103849.982613   NaN  5.119675e+04   1547.741292  ...   \n",
       "min    1.543473e+10     850.000000   NaN  2.000000e+00      0.000000  ...   \n",
       "25%    9.215870e+17    5109.000000   NaN  7.170000e+02     38.000000  ...   \n",
       "50%    1.110576e+18   10398.000000   NaN  1.874000e+03     92.000000  ...   \n",
       "75%    1.269111e+18   33697.500000   NaN  9.082000e+03    306.000000  ...   \n",
       "max    1.500030e+18  963257.000000   NaN  1.596525e+06  45699.000000  ...   \n",
       "\n",
       "       source      timezone  trans_dest  trans_src  translate     user_id  \\\n",
       "count     0.0  24172.000000         0.0        0.0        0.0     24172.0   \n",
       "mean      NaN     68.558663         NaN        NaN        NaN  44196397.0   \n",
       "std       NaN    150.745199         NaN        NaN        NaN         0.0   \n",
       "min       NaN      0.000000         NaN        NaN        NaN  44196397.0   \n",
       "25%       NaN      0.000000         NaN        NaN        NaN  44196397.0   \n",
       "50%       NaN      0.000000         NaN        NaN        NaN  44196397.0   \n",
       "75%       NaN      0.000000         NaN        NaN        NaN  44196397.0   \n",
       "max       NaN    400.000000         NaN        NaN        NaN  44196397.0   \n",
       "\n",
       "       user_id_str  user_rt  user_rt_id         video  \n",
       "count      20029.0      0.0         0.0  24172.000000  \n",
       "mean    44196397.0      NaN         NaN      0.063627  \n",
       "std            0.0      NaN         NaN      0.244093  \n",
       "min     44196397.0      NaN         NaN      0.000000  \n",
       "25%     44196397.0      NaN         NaN      0.000000  \n",
       "50%     44196397.0      NaN         NaN      0.000000  \n",
       "75%     44196397.0      NaN         NaN      0.000000  \n",
       "max     44196397.0      NaN         NaN      1.000000  \n",
       "\n",
       "[8 rows x 26 columns]"
      ]
     },
     "execution_count": 5,
     "metadata": {},
     "output_type": "execute_result"
    }
   ],
   "source": [
    "elon_tweets.describe()"
   ]
  },
  {
   "cell_type": "code",
   "execution_count": 106,
   "metadata": {},
   "outputs": [
    {
     "data": {
      "text/html": [
       "<div>\n",
       "<style scoped>\n",
       "    .dataframe tbody tr th:only-of-type {\n",
       "        vertical-align: middle;\n",
       "    }\n",
       "\n",
       "    .dataframe tbody tr th {\n",
       "        vertical-align: top;\n",
       "    }\n",
       "\n",
       "    .dataframe thead th {\n",
       "        text-align: right;\n",
       "    }\n",
       "</style>\n",
       "<table border=\"1\" class=\"dataframe\">\n",
       "  <thead>\n",
       "    <tr style=\"text-align: right;\">\n",
       "      <th></th>\n",
       "      <th>date</th>\n",
       "      <th>tweet</th>\n",
       "    </tr>\n",
       "  </thead>\n",
       "  <tbody>\n",
       "    <tr>\n",
       "      <td>0</td>\n",
       "      <td>2019-12-28 23:47:59</td>\n",
       "      <td>@Joe__Wakefield @austinbarnard45 @tjq1190 @tyg...</td>\n",
       "    </tr>\n",
       "    <tr>\n",
       "      <td>1</td>\n",
       "      <td>2019-12-28 23:38:57</td>\n",
       "      <td>@austinbarnard45 @tjq1190 @tyger_cyber @fawful...</td>\n",
       "    </tr>\n",
       "    <tr>\n",
       "      <td>2</td>\n",
       "      <td>2019-12-28 23:22:36</td>\n",
       "      <td>@IrinaAntony @tjq1190 @tyger_cyber @fawfulfan ...</td>\n",
       "    </tr>\n",
       "    <tr>\n",
       "      <td>3</td>\n",
       "      <td>2019-12-28 22:42:53</td>\n",
       "      <td>@tjq1190 @tyger_cyber @fawfulfan @_Mikemo He d...</td>\n",
       "    </tr>\n",
       "    <tr>\n",
       "      <td>4</td>\n",
       "      <td>2019-12-28 22:30:09</td>\n",
       "      <td>@geofficient Pretty much</td>\n",
       "    </tr>\n",
       "    <tr>\n",
       "      <td>...</td>\n",
       "      <td>...</td>\n",
       "      <td>...</td>\n",
       "    </tr>\n",
       "    <tr>\n",
       "      <td>24167</td>\n",
       "      <td>2022-01-03</td>\n",
       "      <td>https://t.co/LA9hPzVlGx</td>\n",
       "    </tr>\n",
       "    <tr>\n",
       "      <td>24168</td>\n",
       "      <td>2022-01-02</td>\n",
       "      <td>Let’s make the roaring 20’s happen!</td>\n",
       "    </tr>\n",
       "    <tr>\n",
       "      <td>24169</td>\n",
       "      <td>2022-01-02</td>\n",
       "      <td>Great work by Tesla team worldwide!</td>\n",
       "    </tr>\n",
       "    <tr>\n",
       "      <td>24170</td>\n",
       "      <td>2022-01-01</td>\n",
       "      <td>@BLKMDL3 @Tesla 🔥</td>\n",
       "    </tr>\n",
       "    <tr>\n",
       "      <td>24171</td>\n",
       "      <td>2022-01-01</td>\n",
       "      <td>@MiFSDBetaTester @WholeMarsBlog 🤣</td>\n",
       "    </tr>\n",
       "  </tbody>\n",
       "</table>\n",
       "<p>24172 rows × 2 columns</p>\n",
       "</div>"
      ],
      "text/plain": [
       "                      date                                              tweet\n",
       "0      2019-12-28 23:47:59  @Joe__Wakefield @austinbarnard45 @tjq1190 @tyg...\n",
       "1      2019-12-28 23:38:57  @austinbarnard45 @tjq1190 @tyger_cyber @fawful...\n",
       "2      2019-12-28 23:22:36  @IrinaAntony @tjq1190 @tyger_cyber @fawfulfan ...\n",
       "3      2019-12-28 22:42:53  @tjq1190 @tyger_cyber @fawfulfan @_Mikemo He d...\n",
       "4      2019-12-28 22:30:09                           @geofficient Pretty much\n",
       "...                    ...                                                ...\n",
       "24167           2022-01-03                            https://t.co/LA9hPzVlGx\n",
       "24168           2022-01-02                Let’s make the roaring 20’s happen!\n",
       "24169           2022-01-02                Great work by Tesla team worldwide!\n",
       "24170           2022-01-01                                  @BLKMDL3 @Tesla 🔥\n",
       "24171           2022-01-01                  @MiFSDBetaTester @WholeMarsBlog 🤣\n",
       "\n",
       "[24172 rows x 2 columns]"
      ]
     },
     "execution_count": 106,
     "metadata": {},
     "output_type": "execute_result"
    }
   ],
   "source": [
    "# we only need the tweet and the data of the tweet for analysis\n",
    "\n",
    "elon_tweets = elon_tweets[['date','tweet']]\n",
    "elon_tweets"
   ]
  },
  {
   "cell_type": "code",
   "execution_count": 107,
   "metadata": {
    "scrolled": true
   },
   "outputs": [],
   "source": [
    "pd.options.mode.chained_assignment = None\n",
    "# let's remove the timestamp from the date field and only include the date\n",
    "elon_tweets.date = elon_tweets.date.str[:10] #tweets.date.str[:10]\n"
   ]
  },
  {
   "cell_type": "code",
   "execution_count": 108,
   "metadata": {},
   "outputs": [],
   "source": [
    "def remove_pattern(input_txt, pattern):\n",
    "    r = re.findall(pattern, input_txt)\n",
    "    for i in r:\n",
    "        input_txt = re.sub(i, '', input_txt)        \n",
    "    return input_txt\n",
    "def clean_tweets(tweets):\n",
    "    #remove twitter Return handles (RT @xxx:)\n",
    "    tweets = np.vectorize(remove_pattern)(tweets, \"RT @[\\w]*:\") \n",
    "    \n",
    "    #remove twitter handles (@xxx)\n",
    "    tweets = np.vectorize(remove_pattern)(tweets, \"@[\\w]*\")\n",
    "    \n",
    "    #remove URL links (httpxxx)\n",
    "    tweets = np.vectorize(remove_pattern)(tweets, \"https?://[A-Za-z0-9./]*\")\n",
    "    \n",
    "    #remove special characters, numbers, punctuations (except for #)\n",
    "    tweets = np.core.defchararray.replace(tweets, \"[^a-zA-Z0-9]\", \" \")\n",
    "    tweets = np.core.defchararray.replace(tweets, \"#\", \" \")\n",
    "    tweets = np.core.defchararray.replace(tweets, \"$\", \" \")\n",
    "    tweets = np.core.defchararray.replace(tweets, \"[^a-zA-Z]\", \" \")\n",
    "   \n",
    "    \n",
    "    return tweets"
   ]
  },
  {
   "cell_type": "code",
   "execution_count": 109,
   "metadata": {},
   "outputs": [],
   "source": [
    "elon_tweets['tweet'] = clean_tweets(elon_tweets['tweet'])"
   ]
  },
  {
   "cell_type": "code",
   "execution_count": 110,
   "metadata": {},
   "outputs": [],
   "source": [
    "elon_tweets.reset_index(inplace=True, drop=True)"
   ]
  },
  {
   "cell_type": "code",
   "execution_count": 111,
   "metadata": {},
   "outputs": [
    {
     "data": {
      "text/plain": [
       "0           This is a pretty awful lie. I left South...\n",
       "1          This person blocked me, so can’t read the...\n",
       "2          We started Zip2 with ~ 2k from me plus my...\n",
       "3         He didn’t own an emerald mine &amp; I work...\n",
       "4                                           Pretty much\n",
       "5                                               Federal\n",
       "6       Probably 2021. Depends on regulatory approvals.\n",
       "7      Hopefully working in Caribbean by end of 2020...\n",
       "8       Maximizing conversion of mass to aimed photo...\n",
       "9                              Yes, but it’s too secret\n",
       "10                  Hopefully fully operational in 2020\n",
       "11      Boring Co is completing its first commercial...\n",
       "12                         No, he’s still much faster 🐌\n",
       "13    These would be road tunnels for zero emissions...\n",
       "14                                         Done by dawn\n",
       "15                    That would be a fringe benefit 🤣🤣\n",
       "16    Build super safe, Earthquake-proof tunnels und...\n",
       "17               Flight is hopefully 2 to 3 months away\n",
       "18     We’re now building flight design of Starship ...\n",
       "19    Was up all night with SpaceX team working on S...\n",
       "20      Please stop spamming bleak links into a paywall\n",
       "21                                                   Ok\n",
       "22                              Activating engine two …\n",
       "23        It is an honor &amp; a privilege to work w...\n",
       "24       The overarching goal of Tesla engineering i...\n",
       "25       It’s not that these things can’t be done, t...\n",
       "26                                       Future feature\n",
       "27    Turn on auto navigate feature &amp; car will a...\n",
       "28      Possible, but one step at a time. Anything w...\n",
       "29      Seeing B pillar (diagonal fwd) &amp; side re...\n",
       "30     We’re building out Superchargers as fast as p...\n",
       "31     Phone notification with ability to view possi...\n",
       "32              Most people still don’t know it’s there\n",
       "33    Just swipe down on Tesla nav button for car to...\n",
       "34           If you enter a longer distance than ran...\n",
       "35          Merry Christmas 🎄🎁😀 Hope you’re enjoying...\n",
       "36                                      Yer welcome son\n",
       "37          Car should autonavigate to destinations ...\n",
       "38     That is odd. Try pressing both scroll wheel b...\n",
       "39                                                   No\n",
       "40                                          Coming soon\n",
       "41     They should double down on insanity of Cats. ...\n",
       "42                                         Black Mirror\n",
       "43                                             Parasite\n",
       "44                                                 True\n",
       "45                                    Needs improvement\n",
       "46                                                  Yes\n",
       "47     He was awesome. I squared R heating is why ro...\n",
       "48                                          stock art  \n",
       "49                      Whoa … the stock is so high lol\n",
       "Name: tweet, dtype: object"
      ]
     },
     "execution_count": 111,
     "metadata": {},
     "output_type": "execute_result"
    }
   ],
   "source": [
    "elon_tweets['tweet'].head(50)"
   ]
  },
  {
   "cell_type": "code",
   "execution_count": 25,
   "metadata": {},
   "outputs": [
    {
     "ename": "NameError",
     "evalue": "name 'elon_bit_doge' is not defined",
     "output_type": "error",
     "traceback": [
      "\u001b[0;31m---------------------------------------------------------------------------\u001b[0m",
      "\u001b[0;31mNameError\u001b[0m                                 Traceback (most recent call last)",
      "\u001b[0;32m<ipython-input-25-197a090698c1>\u001b[0m in \u001b[0;36m<module>\u001b[0;34m\u001b[0m\n\u001b[0;32m----> 1\u001b[0;31m \u001b[0melon_bit_doge\u001b[0m\u001b[0;34m.\u001b[0m\u001b[0mcolumns\u001b[0m\u001b[0;34m\u001b[0m\u001b[0;34m\u001b[0m\u001b[0m\n\u001b[0m",
      "\u001b[0;31mNameError\u001b[0m: name 'elon_bit_doge' is not defined"
     ]
    }
   ],
   "source": []
  },
  {
   "cell_type": "code",
   "execution_count": 112,
   "metadata": {},
   "outputs": [],
   "source": [
    "elon_tweets['tweet'] = elon_tweets['tweet'].str.lower()\n",
    "elon_tweets['tweet'] = elon_tweets['tweet'].str.lstrip()\n",
    "\n",
    "\n",
    "\n",
    "\n"
   ]
  },
  {
   "cell_type": "code",
   "execution_count": 113,
   "metadata": {},
   "outputs": [],
   "source": [
    "# after manually browsing the internet for crytocurrency hashtags and keywords, we found a comprehensive list of words listed below\n",
    "crpyto_keywords = [\"#Bitcoin\",\"#BTC\",\"#Cryptocurrency\",\"#Crypto\",'Bitcoin','BTC',\"#Ethereum\",\"Ethereum\", \"DOGE\",\"dogecoin\",'doge','shibainu','shiba','floki','snl',\n",
    "                   'SNL', 'HOLD','hold','HODL','hodl','BabyDoge','babydoge']\n",
    "                   "
   ]
  },
  {
   "cell_type": "code",
   "execution_count": 114,
   "metadata": {},
   "outputs": [],
   "source": [
    "# running the dataset against the above keywords to filter only bitcoin related tweets\n",
    "elon_crypto = pd.DataFrame(columns = ['date', 'tweet'])\n",
    "\n",
    "for i in range(len(elon_tweets)):\n",
    "    cur = elon_tweets.loc[i].tweet\n",
    "    cur = cur.lower().split()\n",
    "    for j in cur:\n",
    "            if j in crpyto_keywords:\n",
    "                elon_crypto = elon_crypto.append({'date' : elon_tweets.loc[i].date, 'tweet' : elon_tweets.loc[i].tweet}, \n",
    "                ignore_index = True)\n",
    "\n",
    "elon_crypto['date'] = pd.to_datetime(elon_crypto['date'], format='%Y-%m-%d')\n",
    "\n",
    "\n",
    "            "
   ]
  },
  {
   "cell_type": "code",
   "execution_count": 115,
   "metadata": {},
   "outputs": [],
   "source": [
    "# after cleaning the tweets and using regex to retrieve only elon musk's tweets, we filtered our list from 24172 to 135 tweets\n",
    "elon_crypto.shape\n",
    "# importing libraries for sentiment analysis\n",
    "from vaderSentiment.vaderSentiment import SentimentIntensityAnalyzer\n",
    "analyzer = SentimentIntensityAnalyzer()"
   ]
  },
  {
   "cell_type": "code",
   "execution_count": 116,
   "metadata": {},
   "outputs": [],
   "source": [
    "scores_elon = []\n",
    "# Declare variables for scores\n",
    "compound_list1 = []\n",
    "positive_list1 = []\n",
    "negative_list1 = []\n",
    "neutral_list1 = []\n",
    "for i in range(elon_crypto['tweet'].shape[0]):\n",
    "#print(analyser.polarity_scores(sentiments_pd['text'][i]))\n",
    "    compound = analyzer.polarity_scores(elon_crypto['tweet'][i])[\"compound\"]\n",
    "    pos = analyzer.polarity_scores(elon_crypto['tweet'][i])[\"pos\"]\n",
    "    neu = analyzer.polarity_scores(elon_crypto['tweet'][i])[\"neu\"]\n",
    "    neg = analyzer.polarity_scores(elon_crypto['tweet'][i])[\"neg\"]\n",
    "    \n",
    "    scores_elon.append({\"Compound\": compound,\n",
    "                       \"Positive\": pos,\n",
    "                       \"Negative\": neg,\n",
    "                       \"Neutral\": neu\n",
    "                  })"
   ]
  },
  {
   "cell_type": "code",
   "execution_count": 117,
   "metadata": {},
   "outputs": [],
   "source": [
    "sentiments_score_elon = pd.DataFrame.from_dict(scores_elon)\n",
    "elon_crypto = elon_crypto.join(sentiments_score_elon)\n"
   ]
  },
  {
   "cell_type": "code",
   "execution_count": 118,
   "metadata": {},
   "outputs": [],
   "source": [
    "elon_crypto = elon_crypto[elon_crypto['date']>='2019-01-01']"
   ]
  },
  {
   "cell_type": "code",
   "execution_count": 119,
   "metadata": {},
   "outputs": [],
   "source": [
    "elon_crypto.reset_index(drop=True,inplace=True)\n"
   ]
  },
  {
   "cell_type": "code",
   "execution_count": 126,
   "metadata": {},
   "outputs": [],
   "source": [
    "elon_crypto\n",
    "\n",
    "elon_bit_doge = elon_crypto.merge(bitusd,on='date', how='left')\n",
    "\n"
   ]
  },
  {
   "cell_type": "code",
   "execution_count": null,
   "metadata": {},
   "outputs": [],
   "source": [
    "elon_bit_doge.isnull().sum()"
   ]
  },
  {
   "cell_type": "code",
   "execution_count": null,
   "metadata": {},
   "outputs": [],
   "source": [
    "# let's perform similar operations on bitcoin_2021 dataframe, from cleaning the data to performing sentiment analysis\n",
    "\n",
    "bitcoin_tweets_2021.shape"
   ]
  },
  {
   "cell_type": "code",
   "execution_count": null,
   "metadata": {},
   "outputs": [],
   "source": [
    "bitcoin_tweets_2021.columns"
   ]
  },
  {
   "cell_type": "code",
   "execution_count": null,
   "metadata": {},
   "outputs": [],
   "source": [
    "bitcoin_tweets_2021 = bitcoin_tweets_2021[['user_name','date','text','hashtags','user_verified','user_followers'\n",
    "                                          ,'user_friends','user_favourites']]"
   ]
  },
  {
   "cell_type": "code",
   "execution_count": null,
   "metadata": {},
   "outputs": [],
   "source": [
    "bitcoin_tweets_2021 = bitcoin_tweets_2021[bitcoin_tweets_2021['user_verified'] ==True]\n",
    "bitcoin_tweets_2021 = bitcoin_tweets_2021.reset_index(drop=True)"
   ]
  },
  {
   "cell_type": "code",
   "execution_count": null,
   "metadata": {},
   "outputs": [],
   "source": [
    "print(bitcoin_tweets_2021['user_followers'].median())\n",
    "print(bitcoin_tweets_2021['user_followers'].mean())\n",
    "print(bitcoin_tweets_2021['user_followers'].mode())"
   ]
  },
  {
   "cell_type": "code",
   "execution_count": null,
   "metadata": {},
   "outputs": [],
   "source": [
    "print(bitcoin_tweets_2021['user_favourites'].median())\n",
    "print(bitcoin_tweets_2021['user_favourites'].mean())\n",
    "print(bitcoin_tweets_2021['user_favourites'].mode())"
   ]
  },
  {
   "cell_type": "code",
   "execution_count": null,
   "metadata": {},
   "outputs": [],
   "source": [
    "bitcoin_tweets_2021_new = bitcoin_tweets_2021.loc[(bitcoin_tweets_2021['user_followers']>=77581) &\n",
    "                                                  (bitcoin_tweets_2021['user_favourites']>=6166)]\n",
    "bitcoin_tweets_2021_new"
   ]
  },
  {
   "cell_type": "code",
   "execution_count": null,
   "metadata": {},
   "outputs": [],
   "source": [
    "bitcoin_tweets_2021_new.reset_index(drop=True)"
   ]
  },
  {
   "cell_type": "code",
   "execution_count": null,
   "metadata": {},
   "outputs": [],
   "source": [
    "#cleaning the tweets\n",
    "def remove_pattern(input_txt, pattern):\n",
    "    r = re.findall(pattern, input_txt)\n",
    "    for i in r:\n",
    "        input_txt = re.sub(i, '', input_txt)        \n",
    "    return input_txt\n",
    "def clean_tweets(tweets):\n",
    "    #remove twitter Return handles (RT @xxx:)\n",
    "    tweets = np.vectorize(remove_pattern)(tweets, \"RT @[\\w]*:\") \n",
    "    \n",
    "    #remove twitter handles (@xxx)\n",
    "    tweets = np.vectorize(remove_pattern)(tweets, \"@[\\w]*\")\n",
    "    \n",
    "    #remove URL links (httpxxx)\n",
    "    tweets = np.vectorize(remove_pattern)(tweets, \"https?://[A-Za-z0-9./]*\")\n",
    "    \n",
    "    #remove special characters, numbers, punctuations (except for #)\n",
    "    tweets = np.core.defchararray.replace(tweets, \"[^a-zA-Z0-9]\", \" \")\n",
    "    tweets = np.core.defchararray.replace(tweets, \"#\", \" \")\n",
    "    tweets = np.core.defchararray.replace(tweets, \"$\", \" \")\n",
    "    tweets = np.core.defchararray.replace(tweets, \"[^a-zA-Z]\", \" \")\n",
    "    \n",
    "    \n",
    "    \n",
    "    \n",
    "    return tweets"
   ]
  },
  {
   "cell_type": "code",
   "execution_count": null,
   "metadata": {},
   "outputs": [],
   "source": [
    "bitcoin_tweets_2021_new['text'] = clean_tweets(bitcoin_tweets_2021_new['text'])"
   ]
  },
  {
   "cell_type": "code",
   "execution_count": null,
   "metadata": {},
   "outputs": [],
   "source": [
    "bitcoin_tweets_2021_new.reset_index(inplace=True, drop=True)"
   ]
  },
  {
   "cell_type": "code",
   "execution_count": null,
   "metadata": {},
   "outputs": [],
   "source": [
    "bitcoin_tweets_2021_new['text'] = bitcoin_tweets_2021_new['text'].str.lower()\n",
    "bitcoin_tweets_2021_new['text'] = bitcoin_tweets_2021_new['text'].str.lstrip()"
   ]
  },
  {
   "cell_type": "code",
   "execution_count": null,
   "metadata": {},
   "outputs": [],
   "source": [
    "bitcoin_tweets_2021_new.shape[0]"
   ]
  },
  {
   "cell_type": "code",
   "execution_count": null,
   "metadata": {},
   "outputs": [],
   "source": [
    "scores = []\n",
    "# Declare variables for scores\n",
    "compound_list = []\n",
    "positive_list = []\n",
    "negative_list = []\n",
    "neutral_list = []\n",
    "for i in range(bitcoin_tweets_2021_new['text'].shape[0]):\n",
    "#print(analyser.polarity_scores(sentiments_pd['text'][i]))\n",
    "    compound = analyzer.polarity_scores(bitcoin_tweets_2021_new['text'][i])[\"compound\"]\n",
    "    pos = analyzer.polarity_scores(bitcoin_tweets_2021_new['text'][i])[\"pos\"]\n",
    "    neu = analyzer.polarity_scores(bitcoin_tweets_2021_new['text'][i])[\"neu\"]\n",
    "    neg = analyzer.polarity_scores(bitcoin_tweets_2021_new['text'][i])[\"neg\"]\n",
    "    \n",
    "    scores.append({\"Compound\": compound,\n",
    "                       \"Positive\": pos,\n",
    "                       \"Negative\": neg,\n",
    "                       \"Neutral\": neu\n",
    "                  })"
   ]
  },
  {
   "cell_type": "code",
   "execution_count": null,
   "metadata": {},
   "outputs": [],
   "source": [
    "sentiments_score = pd.DataFrame.from_dict(scores)\n",
    "bitcoin_tweets_2021_new = bitcoin_tweets_2021_new.join(sentiments_score)\n",
    "bitcoin_tweets_2021_new.head()\n",
    "\n"
   ]
  },
  {
   "cell_type": "code",
   "execution_count": null,
   "metadata": {},
   "outputs": [],
   "source": [
    "bitcoin_tweets_2021_new.shape[0]"
   ]
  },
  {
   "cell_type": "code",
   "execution_count": null,
   "metadata": {},
   "outputs": [],
   "source": [
    "bitcoin_tweets_2021_new.date = bitcoin_tweets_2021_new.date.str[:10] #tweets.date.str[:10]"
   ]
  },
  {
   "cell_type": "code",
   "execution_count": null,
   "metadata": {},
   "outputs": [],
   "source": [
    "bitcoin_tweets_2021_new\n",
    "\n"
   ]
  },
  {
   "cell_type": "code",
   "execution_count": 123,
   "metadata": {
    "scrolled": true
   },
   "outputs": [],
   "source": [
    "bitusd = pd.read_csv('/Users/arjun/Downloads/BTCUSD.csv')"
   ]
  },
  {
   "cell_type": "code",
   "execution_count": 124,
   "metadata": {},
   "outputs": [],
   "source": [
    "bitusd.rename(columns={'Date':'date'}, inplace=True)\n"
   ]
  },
  {
   "cell_type": "code",
   "execution_count": 125,
   "metadata": {},
   "outputs": [],
   "source": [
    "bitusd['date'] = pd.to_datetime(bitusd['date'])"
   ]
  },
  {
   "cell_type": "code",
   "execution_count": null,
   "metadata": {},
   "outputs": [],
   "source": [
    "# combining bitcoin historic price data to our tweets dataset\n",
    "bitcoin_tweets_prices = bitcoin_tweets_2021_new.merge(bitusd, on='date', how='left')"
   ]
  },
  {
   "cell_type": "code",
   "execution_count": null,
   "metadata": {},
   "outputs": [],
   "source": [
    "bitcoin_tweets_2021_new['date'] = pd.to_datetime(bitcoin_tweets_2021_new['date'])"
   ]
  },
  {
   "cell_type": "code",
   "execution_count": null,
   "metadata": {},
   "outputs": [],
   "source": [
    "bitcoin_tweets_2021_new"
   ]
  },
  {
   "cell_type": "code",
   "execution_count": 23,
   "metadata": {},
   "outputs": [
    {
     "ename": "NameError",
     "evalue": "name 'elon_bit_doge' is not defined",
     "output_type": "error",
     "traceback": [
      "\u001b[0;31m---------------------------------------------------------------------------\u001b[0m",
      "\u001b[0;31mNameError\u001b[0m                                 Traceback (most recent call last)",
      "\u001b[0;32m<ipython-input-23-0fc3bd434c01>\u001b[0m in \u001b[0;36m<module>\u001b[0;34m\u001b[0m\n\u001b[0;32m----> 1\u001b[0;31m \u001b[0melon_bit_doge\u001b[0m\u001b[0;34m.\u001b[0m\u001b[0mshape\u001b[0m\u001b[0;34m\u001b[0m\u001b[0;34m\u001b[0m\u001b[0m\n\u001b[0m",
      "\u001b[0;31mNameError\u001b[0m: name 'elon_bit_doge' is not defined"
     ]
    }
   ],
   "source": []
  },
  {
   "cell_type": "code",
   "execution_count": null,
   "metadata": {},
   "outputs": [],
   "source": [
    "bitcoin_tweets_prices.shape"
   ]
  },
  {
   "cell_type": "code",
   "execution_count": null,
   "metadata": {},
   "outputs": [],
   "source": [
    "elon_bit_doge.isnull().sum()"
   ]
  },
  {
   "cell_type": "code",
   "execution_count": null,
   "metadata": {},
   "outputs": [],
   "source": [
    "bitcoin_tweets_prices.isnull().sum()"
   ]
  },
  {
   "cell_type": "code",
   "execution_count": null,
   "metadata": {},
   "outputs": [],
   "source": [
    "elon_bit_doge.columns"
   ]
  },
  {
   "cell_type": "code",
   "execution_count": null,
   "metadata": {},
   "outputs": [],
   "source": [
    "bitcoin_tweets_prices.columns"
   ]
  },
  {
   "cell_type": "code",
   "execution_count": 127,
   "metadata": {},
   "outputs": [],
   "source": [
    "elon_bit_doge_final = elon_bit_doge[['date', 'tweet', 'Compound', 'Open',\n",
    "        'Close',  'Volume']]"
   ]
  },
  {
   "cell_type": "code",
   "execution_count": null,
   "metadata": {},
   "outputs": [],
   "source": [
    "bitcoin_tweets_2021_prices_final = bitcoin_tweets_prices[[ 'date', 'text',\n",
    "       'user_followers', 'user_favourites', 'Compound',\n",
    "        'Open', 'Close',\n",
    "        'Volume']]"
   ]
  },
  {
   "cell_type": "code",
   "execution_count": null,
   "metadata": {},
   "outputs": [],
   "source": [
    "elon_bit_doge_final.shape"
   ]
  },
  {
   "cell_type": "code",
   "execution_count": null,
   "metadata": {},
   "outputs": [],
   "source": [
    "bitcoin_tweets_2021_prices_final.shape"
   ]
  },
  {
   "cell_type": "code",
   "execution_count": null,
   "metadata": {},
   "outputs": [],
   "source": [
    "elon_bit_doge_final.isnull().sum()"
   ]
  },
  {
   "cell_type": "code",
   "execution_count": null,
   "metadata": {},
   "outputs": [],
   "source": [
    "bitcoin_tweets_2021_prices_final.isnull().sum()"
   ]
  },
  {
   "cell_type": "code",
   "execution_count": null,
   "metadata": {},
   "outputs": [],
   "source": [
    "elon_bit_doge_final.columns"
   ]
  },
  {
   "cell_type": "code",
   "execution_count": null,
   "metadata": {},
   "outputs": [],
   "source": [
    "bitcoin_tweets_2021_prices_final.columns"
   ]
  },
  {
   "cell_type": "code",
   "execution_count": null,
   "metadata": {},
   "outputs": [],
   "source": [
    "elon_bit_doge_final.to_csv('elon_bit_doge_final.csv')"
   ]
  },
  {
   "cell_type": "code",
   "execution_count": null,
   "metadata": {},
   "outputs": [],
   "source": [
    "bitcoin_tweets_2021_prices_final.to_csv('bitcoin_tweets_2021_prices_final.csv')"
   ]
  },
  {
   "cell_type": "code",
   "execution_count": null,
   "metadata": {},
   "outputs": [],
   "source": [
    "import numpy as dragon\n",
    "import pylab as p\n",
    "import matplotlib.pyplot as plot\n",
    "from collections import Counter\n",
    "import re\n",
    "\n",
    "#importing packages for the prediction of time-series data\n",
    "import statsmodels.api as sm\n",
    "import statsmodels.tsa.api as smt\n",
    "import statsmodels.formula.api as smf\n",
    "\n",
    "from sklearn.metrics import mean_squared_error"
   ]
  },
  {
   "cell_type": "code",
   "execution_count": null,
   "metadata": {},
   "outputs": [],
   "source": [
    "from statsmodels.tsa.stattools import adfuller\n",
    "\n",
    "def test_stationarity(x):\n",
    "\n",
    "\n",
    "    #Determing rolling statistics\n",
    "    rolmean = x.rolling(window=22,center=False).mean()\n",
    "\n",
    "    rolstd = x.rolling(window=12,center=False).std()\n",
    "    \n",
    "    #Plot rolling statistics:\n",
    "    orig = plot.plot(x, color='blue',label='Original')\n",
    "    mean = plot.plot(rolmean, color='red', label='Rolling Mean')\n",
    "    std = plot.plot(rolstd, color='black', label = 'Rolling Std')\n",
    "    plot.legend(loc='best')\n",
    "    plot.title('Rolling Mean & Standard Deviation')\n",
    "    plot.show(block=False)\n",
    "    \n",
    "    #Perform Dickey Fuller test    \n",
    "    result=adfuller(x)\n",
    "    print('ADF Stastistic: %f'%result[0])\n",
    "    print('p-value: %f'%result[1])\n",
    "    pvalue=result[1]\n",
    "    for key,value in result[4].items():\n",
    "        if result[0]>value:\n",
    "            print(\"The graph is non stationery\")\n",
    "            break\n",
    "        else:\n",
    "            print(\"The graph is stationery\")\n",
    "            break;\n",
    "    print('Critical values:')\n",
    "    for key,value in result[4].items():\n",
    "        print('\\t%s: %.3f ' % (key, value))\n",
    "        \n",
    "     \n"
   ]
  },
  {
   "cell_type": "code",
   "execution_count": null,
   "metadata": {},
   "outputs": [],
   "source": [
    "test_stationarity(bitcoin_tweets_2021_prices_final['Close'])"
   ]
  },
  {
   "cell_type": "code",
   "execution_count": null,
   "metadata": {},
   "outputs": [],
   "source": [
    "close = dragon.log(bitcoin_tweets_2021_prices_final['Close'])\n",
    "plot.plot(close,color=\"green\")\n",
    "plot.show()\n",
    "\n",
    "test_stationarity(close)\n",
    "\n",
    "close"
   ]
  },
  {
   "cell_type": "code",
   "execution_count": null,
   "metadata": {},
   "outputs": [],
   "source": [
    "close_diff = close - close.shift()\n",
    "plot.plot(close_diff)\n",
    "plot.show()"
   ]
  },
  {
   "cell_type": "code",
   "execution_count": null,
   "metadata": {},
   "outputs": [],
   "source": [
    "close_diff.dropna(inplace=True)\n",
    "test_stationarity(close_diff)"
   ]
  },
  {
   "cell_type": "code",
   "execution_count": null,
   "metadata": {},
   "outputs": [],
   "source": [
    "close_diff"
   ]
  },
  {
   "cell_type": "code",
   "execution_count": null,
   "metadata": {},
   "outputs": [],
   "source": [
    "bitcoin_tweets_2021_prices_final['Close']"
   ]
  },
  {
   "cell_type": "code",
   "execution_count": 132,
   "metadata": {},
   "outputs": [],
   "source": [
    "import numpy as np\n",
    "from sklearn.datasets import load_boston\n",
    "from sklearn.ensemble import RandomForestRegressor\n",
    "from sklearn.model_selection import train_test_split\n",
    "from sklearn.feature_selection import RFECV\n",
    "import matplotlib.pyplot as plt"
   ]
  },
  {
   "cell_type": "code",
   "execution_count": null,
   "metadata": {},
   "outputs": [],
   "source": [
    "features = ['user_followers', 'user_favourites', 'Compound', 'Open', 'Volume']"
   ]
  },
  {
   "cell_type": "code",
   "execution_count": null,
   "metadata": {},
   "outputs": [],
   "source": [
    "y = bitcoin_tweets_2021_prices_final['Close']\n",
    "x = bitcoin_tweets_2021_prices_final[features]"
   ]
  },
  {
   "cell_type": "code",
   "execution_count": null,
   "metadata": {},
   "outputs": [],
   "source": [
    "train_X, val_X, train_y, val_y = train_test_split(x, y, random_state=1)"
   ]
  },
  {
   "cell_type": "code",
   "execution_count": 133,
   "metadata": {},
   "outputs": [],
   "source": [
    "## since the dataset is very large spliting the dataset using the default 75:25 offered by random forrest model is ideal\n",
    "from sklearn.ensemble import RandomForestRegressor\n",
    "rf_model = RandomForestRegressor(random_state=1,n_estimators=10)"
   ]
  },
  {
   "cell_type": "code",
   "execution_count": null,
   "metadata": {},
   "outputs": [],
   "source": [
    "rf_model.fit(train_X, train_y)"
   ]
  },
  {
   "cell_type": "code",
   "execution_count": null,
   "metadata": {},
   "outputs": [],
   "source": [
    "rf_pred = rf_model.predict(val_X)"
   ]
  },
  {
   "cell_type": "code",
   "execution_count": null,
   "metadata": {},
   "outputs": [],
   "source": [
    "print(rf_model.predict(x))\n",
    "bitcoin_tweets_2021_prices_final['Close']"
   ]
  },
  {
   "cell_type": "code",
   "execution_count": 134,
   "metadata": {},
   "outputs": [
    {
     "ename": "NameError",
     "evalue": "name 'val_y' is not defined",
     "output_type": "error",
     "traceback": [
      "\u001b[0;31m---------------------------------------------------------------------------\u001b[0m",
      "\u001b[0;31mNameError\u001b[0m                                 Traceback (most recent call last)",
      "\u001b[0;32m<ipython-input-134-7b5de6ac086f>\u001b[0m in \u001b[0;36m<module>\u001b[0;34m\u001b[0m\n\u001b[1;32m      1\u001b[0m \u001b[0;32mfrom\u001b[0m \u001b[0msklearn\u001b[0m\u001b[0;34m.\u001b[0m\u001b[0mmetrics\u001b[0m \u001b[0;32mimport\u001b[0m \u001b[0mmean_absolute_error\u001b[0m\u001b[0;34m\u001b[0m\u001b[0;34m\u001b[0m\u001b[0m\n\u001b[0;32m----> 2\u001b[0;31m \u001b[0mrf_val_mae\u001b[0m \u001b[0;34m=\u001b[0m \u001b[0mmean_absolute_error\u001b[0m\u001b[0;34m(\u001b[0m\u001b[0mval_y\u001b[0m\u001b[0;34m,\u001b[0m\u001b[0mrf_pred\u001b[0m\u001b[0;34m)\u001b[0m\u001b[0;34m\u001b[0m\u001b[0;34m\u001b[0m\u001b[0m\n\u001b[0m\u001b[1;32m      3\u001b[0m \u001b[0mrf_val_mae\u001b[0m\u001b[0;34m\u001b[0m\u001b[0;34m\u001b[0m\u001b[0m\n",
      "\u001b[0;31mNameError\u001b[0m: name 'val_y' is not defined"
     ]
    }
   ],
   "source": [
    "from sklearn.metrics import mean_absolute_error\n",
    "rf_val_mae = mean_absolute_error(val_y,rf_pred)\n",
    "rf_val_mae"
   ]
  },
  {
   "cell_type": "code",
   "execution_count": null,
   "metadata": {},
   "outputs": [],
   "source": [
    "# let's analyze the features user_followers and user_favourites to determine the correlation with price"
   ]
  },
  {
   "cell_type": "code",
   "execution_count": null,
   "metadata": {},
   "outputs": [],
   "source": [
    "plot.scatter(bitcoin_tweets_2021_prices_final['Close'],bitcoin_tweets_2021_prices_final['user_followers'])\n",
    "plt.show()"
   ]
  },
  {
   "cell_type": "code",
   "execution_count": null,
   "metadata": {},
   "outputs": [],
   "source": [
    "plot.scatter(bitcoin_tweets_2021_prices_final['Close'],bitcoin_tweets_2021_prices_final['user_favourites'])\n",
    "plt.show()"
   ]
  },
  {
   "cell_type": "markdown",
   "metadata": {},
   "source": [
    "On the basis of the plots above, there does not seem to be much correlation between user_favourutes,user_followers \n",
    "and Closing price of bitcoin, lets exclude these features and test our model again"
   ]
  },
  {
   "cell_type": "code",
   "execution_count": 135,
   "metadata": {},
   "outputs": [
    {
     "ename": "NameError",
     "evalue": "name 'bitcoin_tweets_2021_prices_final' is not defined",
     "output_type": "error",
     "traceback": [
      "\u001b[0;31m---------------------------------------------------------------------------\u001b[0m",
      "\u001b[0;31mNameError\u001b[0m                                 Traceback (most recent call last)",
      "\u001b[0;32m<ipython-input-135-44cf913d7226>\u001b[0m in \u001b[0;36m<module>\u001b[0;34m\u001b[0m\n\u001b[1;32m      1\u001b[0m \u001b[0mfeatures_updated\u001b[0m \u001b[0;34m=\u001b[0m \u001b[0;34m[\u001b[0m\u001b[0;34m'Compound'\u001b[0m\u001b[0;34m,\u001b[0m \u001b[0;34m'Open'\u001b[0m\u001b[0;34m,\u001b[0m \u001b[0;34m'Volume'\u001b[0m\u001b[0;34m]\u001b[0m\u001b[0;34m\u001b[0m\u001b[0;34m\u001b[0m\u001b[0m\n\u001b[1;32m      2\u001b[0m \u001b[0;34m\u001b[0m\u001b[0m\n\u001b[0;32m----> 3\u001b[0;31m \u001b[0mx_upd\u001b[0m \u001b[0;34m=\u001b[0m \u001b[0mbitcoin_tweets_2021_prices_final\u001b[0m\u001b[0;34m[\u001b[0m\u001b[0mfeatures_updated\u001b[0m\u001b[0;34m]\u001b[0m\u001b[0;34m\u001b[0m\u001b[0;34m\u001b[0m\u001b[0m\n\u001b[0m",
      "\u001b[0;31mNameError\u001b[0m: name 'bitcoin_tweets_2021_prices_final' is not defined"
     ]
    }
   ],
   "source": [
    "features_updated = ['Compound', 'Open', 'Volume']\n",
    "\n",
    "x_upd = bitcoin_tweets_2021_prices_final[features_updated]"
   ]
  },
  {
   "cell_type": "code",
   "execution_count": null,
   "metadata": {},
   "outputs": [],
   "source": [
    "train_X_upd, val_X_upd, train_y_upd, val_y_upd = train_test_split(x_upd, y, random_state=1)"
   ]
  },
  {
   "cell_type": "code",
   "execution_count": null,
   "metadata": {},
   "outputs": [],
   "source": [
    "rf_model_upd = RandomForestRegressor(random_state=1,n_estimators=10)"
   ]
  },
  {
   "cell_type": "code",
   "execution_count": null,
   "metadata": {},
   "outputs": [],
   "source": [
    "rf_model_upd.fit(train_X_upd, train_y_upd)"
   ]
  },
  {
   "cell_type": "code",
   "execution_count": null,
   "metadata": {},
   "outputs": [],
   "source": [
    "rf_pred_upd = rf_model_upd.predict(val_X_upd)"
   ]
  },
  {
   "cell_type": "code",
   "execution_count": null,
   "metadata": {},
   "outputs": [],
   "source": [
    "print(rf_model_upd.predict(x_upd))\n",
    "bitcoin_tweets_2021_prices_final['Close']"
   ]
  },
  {
   "cell_type": "code",
   "execution_count": null,
   "metadata": {},
   "outputs": [],
   "source": [
    "rf_val_mae_upd = mean_absolute_error(val_y_upd,rf_pred_upd)\n",
    "rf_val_mae_upd"
   ]
  },
  {
   "cell_type": "code",
   "execution_count": null,
   "metadata": {},
   "outputs": [],
   "source": [
    "# lets perform the prediction for elon musks tweets"
   ]
  },
  {
   "cell_type": "code",
   "execution_count": 128,
   "metadata": {},
   "outputs": [
    {
     "data": {
      "text/plain": [
       "97"
      ]
     },
     "execution_count": 128,
     "metadata": {},
     "output_type": "execute_result"
    }
   ],
   "source": [
    "elon_bit_doge_final.shape[0]"
   ]
  },
  {
   "cell_type": "code",
   "execution_count": 200,
   "metadata": {},
   "outputs": [
    {
     "data": {
      "text/plain": [
       "Index(['date', 'tweet', 'Compound', 'Open', 'Close', 'Volume'], dtype='object')"
      ]
     },
     "execution_count": 200,
     "metadata": {},
     "output_type": "execute_result"
    }
   ],
   "source": [
    "elon_bit_doge_final.columns"
   ]
  },
  {
   "cell_type": "code",
   "execution_count": 136,
   "metadata": {},
   "outputs": [],
   "source": [
    "features_elon = ['Compound','Open', 'Volume']"
   ]
  },
  {
   "cell_type": "code",
   "execution_count": 137,
   "metadata": {},
   "outputs": [],
   "source": [
    "y_elon = elon_bit_doge_final['Close']\n",
    "x_elon = elon_bit_doge_final[features_elon]"
   ]
  },
  {
   "cell_type": "code",
   "execution_count": 138,
   "metadata": {},
   "outputs": [],
   "source": [
    "train_X_elon, val_X_elon, train_y_elon, val_y_elon = train_test_split(x_elon, y_elon, random_state=1)"
   ]
  },
  {
   "cell_type": "code",
   "execution_count": 195,
   "metadata": {},
   "outputs": [],
   "source": [
    "rf_model_elon = RandomForestRegressor(random_state=1, n_estimators=90, max_depth=6)"
   ]
  },
  {
   "cell_type": "code",
   "execution_count": 196,
   "metadata": {},
   "outputs": [
    {
     "data": {
      "text/plain": [
       "RandomForestRegressor(bootstrap=True, criterion='mse', max_depth=6,\n",
       "                      max_features='auto', max_leaf_nodes=None,\n",
       "                      min_impurity_decrease=0.0, min_impurity_split=None,\n",
       "                      min_samples_leaf=1, min_samples_split=2,\n",
       "                      min_weight_fraction_leaf=0.0, n_estimators=90,\n",
       "                      n_jobs=None, oob_score=False, random_state=1, verbose=0,\n",
       "                      warm_start=False)"
      ]
     },
     "execution_count": 196,
     "metadata": {},
     "output_type": "execute_result"
    }
   ],
   "source": [
    "rf_model_elon.fit(train_X_elon, train_y_elon)"
   ]
  },
  {
   "cell_type": "code",
   "execution_count": 197,
   "metadata": {},
   "outputs": [],
   "source": [
    "rf_pred_elon = rf_model_elon.predict(val_X_elon)"
   ]
  },
  {
   "cell_type": "code",
   "execution_count": 198,
   "metadata": {},
   "outputs": [
    {
     "name": "stdout",
     "output_type": "stream",
     "text": [
      "[ 8094.07820904 10965.95388808  4909.7674645   4939.656999\n",
      "  4918.28546038 22610.27503479 16580.65315739 11975.57488081\n",
      " 10987.45782712 11216.72347033 10365.08489624  9042.27615272\n",
      "  8310.58296699  9303.20093728  8094.07820904 10965.95388808\n",
      "  4909.7674645   4939.656999    4918.28546038 48058.32510947\n",
      " 49417.38416389 45780.10644953 46783.5675504  57367.12515622\n",
      " 57402.76107202 57409.1408608  62772.1519749  60686.46289693\n",
      " 60415.31403856 61508.78253046 54820.66940717 49355.72740301\n",
      " 48548.66611222 43502.17893451 46279.36264076 32039.30055773\n",
      " 32264.30376945 32525.51603617 32525.51603617 32473.33215656\n",
      " 32296.36978387 32116.79838631 32116.79838631 39682.38923883\n",
      " 40788.56244202 39817.54633244 40203.92296686 40203.92296686\n",
      " 40352.40869819 46616.27664925 46633.03162611 46572.0118923\n",
      " 48162.14057709 56894.01851527 56452.45208413 58372.82798543\n",
      " 56940.21180186 57334.90752532 55327.76614681 48848.19081904\n",
      " 62980.27994812 62980.27994812 58372.6521246  57629.7443875\n",
      " 56894.01851527 59370.56273172 59385.50109977 59385.50109977\n",
      " 59385.50109977 59370.56273172 48926.68885983 49492.79078594\n",
      " 48696.50430852 47905.74333832 55182.46055293 56654.79384779\n",
      " 48403.79012845 48297.18826213 48663.16277168 46019.00461414\n",
      " 45647.61227106 45647.61227106 45633.74166921 45633.74166921\n",
      " 37540.83359997 37721.40821805 37721.40821805 33847.96914082\n",
      " 41546.97116637 40258.56510783 43004.36740128 37599.97915996\n",
      " 43206.92862424 40258.56510783 43004.36740128 37599.97915996\n",
      " 43206.92862424]\n"
     ]
    },
    {
     "data": {
      "text/plain": [
       "0      8336.555664\n",
       "1     11011.102539\n",
       "2      4879.877930\n",
       "3      4879.877930\n",
       "4      4879.877930\n",
       "          ...     \n",
       "92    43099.699219\n",
       "93    39400.585938\n",
       "94    42451.789063\n",
       "95    36954.003906\n",
       "96    43099.699219\n",
       "Name: Close, Length: 97, dtype: float64"
      ]
     },
     "execution_count": 198,
     "metadata": {},
     "output_type": "execute_result"
    }
   ],
   "source": [
    "print(rf_model_elon.predict(x_elon))\n",
    "elon_bit_doge_final['Close']"
   ]
  },
  {
   "cell_type": "code",
   "execution_count": 199,
   "metadata": {},
   "outputs": [
    {
     "data": {
      "text/plain": [
       "729.1304314032616"
      ]
     },
     "execution_count": 199,
     "metadata": {},
     "output_type": "execute_result"
    }
   ],
   "source": [
    "rf_val_mae_elon = mean_absolute_error(val_y_elon,rf_pred_elon)\n",
    "rf_val_mae_elon"
   ]
  },
  {
   "cell_type": "markdown",
   "metadata": {},
   "source": [
    "the mae for elon musks tweets is not the greatest, partly because we considered day by day close data for bitcoin most of the tweets by musk effect intraday(within a day) trading. "
   ]
  },
  {
   "cell_type": "code",
   "execution_count": null,
   "metadata": {},
   "outputs": [],
   "source": [
    "## lets use linearregression to perform the same prediction\n",
    "from sklearn.linear_model import LinearRegression"
   ]
  },
  {
   "cell_type": "code",
   "execution_count": null,
   "metadata": {},
   "outputs": [],
   "source": [
    "model = LinearRegression()\n",
    "model.fit(train_X, train_y)"
   ]
  },
  {
   "cell_type": "code",
   "execution_count": null,
   "metadata": {},
   "outputs": [],
   "source": [
    "model.score(val_X, val_y)"
   ]
  },
  {
   "cell_type": "code",
   "execution_count": null,
   "metadata": {},
   "outputs": [],
   "source": [
    "future_set = val_y"
   ]
  },
  {
   "cell_type": "code",
   "execution_count": null,
   "metadata": {},
   "outputs": [],
   "source": [
    "prediction = model.predict(val_X)"
   ]
  },
  {
   "cell_type": "code",
   "execution_count": null,
   "metadata": {},
   "outputs": [],
   "source": [
    "mae_bitcoin_lr = mean_absolute_error(val_y,prediction)"
   ]
  },
  {
   "cell_type": "code",
   "execution_count": null,
   "metadata": {},
   "outputs": [],
   "source": [
    "mae_bitcoin_lr"
   ]
  },
  {
   "cell_type": "markdown",
   "metadata": {},
   "source": [
    "Let's perform kfold validation on elon musk dataset as the dataset is limited"
   ]
  },
  {
   "cell_type": "code",
   "execution_count": 79,
   "metadata": {},
   "outputs": [],
   "source": [
    "def rfr_model(X, y):\n",
    "# Perform Grid-Search\n",
    "    gsc = GridSearchCV(\n",
    "        estimator=RandomForestRegressor(),\n",
    "        param_grid={\n",
    "            'max_depth': range(3,7),\n",
    "            'n_estimators': (10, 50, 100, 1000),\n",
    "        },\n",
    "        cv=5, scoring='neg_mean_squared_error', verbose=0,                         n_jobs=-1)\n",
    "    \n",
    "    grid_result = gsc.fit(X, y)\n",
    "    best_params = grid_result.best_params_\n",
    "    \n",
    "    rfr = RandomForestRegressor(max_depth=best_params[\"max_depth\"], n_estimators=best_params[\"n_estimators\"],                               random_state=False, verbose=False)\n",
    "# Perform K-Fold CV\n",
    "    scores = cross_val_score(rfr, X, y, cv=10, scoring='neg_mean_absolute_error')\n",
    "\n",
    "    return scores"
   ]
  },
  {
   "cell_type": "code",
   "execution_count": 80,
   "metadata": {},
   "outputs": [],
   "source": [
    "elon = pd.read_csv(\"elon_bit_doge_final.csv\")"
   ]
  },
  {
   "cell_type": "code",
   "execution_count": 81,
   "metadata": {},
   "outputs": [],
   "source": [
    "elon_fet = ['Compound','Open','Volume']\n",
    "elon_price = elon['Close']\n",
    "\n",
    "fet = elon[elon_fet]"
   ]
  },
  {
   "cell_type": "code",
   "execution_count": 84,
   "metadata": {},
   "outputs": [
    {
     "name": "stderr",
     "output_type": "stream",
     "text": [
      "/Users/arjun/opt/anaconda3/lib/python3.7/site-packages/sklearn/model_selection/_search.py:814: DeprecationWarning: The default of the `iid` parameter will change from True to False in version 0.22 and will be removed in 0.24. This will change numeric results when test-set sizes are unequal.\n",
      "  DeprecationWarning)\n"
     ]
    },
    {
     "name": "stdout",
     "output_type": "stream",
     "text": [
      "[-2048.38169093  -896.26083709 -1356.94222757 -1238.80833122\n",
      " -3418.88508226  -752.60616106 -1599.17119843 -1745.45125246\n",
      " -4310.16788636 -3880.98399135]\n"
     ]
    }
   ],
   "source": [
    "rfr =rfr_model(fet,elon_price)\n",
    "\n",
    "print(rfr)"
   ]
  },
  {
   "cell_type": "code",
   "execution_count": 83,
   "metadata": {},
   "outputs": [],
   "source": [
    "from sklearn.model_selection import cross_val_score, GridSearchCV, cross_val_predict\n",
    "from sklearn.ensemble import RandomForestRegressor\n",
    "from sklearn.preprocessing import MinMaxScaler"
   ]
  },
  {
   "cell_type": "code",
   "execution_count": 85,
   "metadata": {},
   "outputs": [
    {
     "ename": "TypeError",
     "evalue": "estimator should be an estimator implementing 'fit' method, array([-2048.38169093,  -896.26083709, -1356.94222757, -1238.80833122,\n       -3418.88508226,  -752.60616106, -1599.17119843, -1745.45125246,\n       -4310.16788636, -3880.98399135]) was passed",
     "output_type": "error",
     "traceback": [
      "\u001b[0;31m---------------------------------------------------------------------------\u001b[0m",
      "\u001b[0;31mTypeError\u001b[0m                                 Traceback (most recent call last)",
      "\u001b[0;32m<ipython-input-85-db92417daec8>\u001b[0m in \u001b[0;36m<module>\u001b[0;34m\u001b[0m\n\u001b[0;32m----> 1\u001b[0;31m \u001b[0mscores\u001b[0m \u001b[0;34m=\u001b[0m \u001b[0mcross_val_score\u001b[0m\u001b[0;34m(\u001b[0m\u001b[0mrfr\u001b[0m\u001b[0;34m,\u001b[0m \u001b[0mfet\u001b[0m\u001b[0;34m,\u001b[0m \u001b[0melon_price\u001b[0m\u001b[0;34m,\u001b[0m \u001b[0mcv\u001b[0m\u001b[0;34m=\u001b[0m\u001b[0;36m10\u001b[0m\u001b[0;34m,\u001b[0m \u001b[0mscoring\u001b[0m\u001b[0;34m=\u001b[0m\u001b[0;34m'neg_mean_absolute_error'\u001b[0m\u001b[0;34m)\u001b[0m\u001b[0;34m\u001b[0m\u001b[0;34m\u001b[0m\u001b[0m\n\u001b[0m",
      "\u001b[0;32m~/opt/anaconda3/lib/python3.7/site-packages/sklearn/model_selection/_validation.py\u001b[0m in \u001b[0;36mcross_val_score\u001b[0;34m(estimator, X, y, groups, scoring, cv, n_jobs, verbose, fit_params, pre_dispatch, error_score)\u001b[0m\n\u001b[1;32m    382\u001b[0m     \"\"\"\n\u001b[1;32m    383\u001b[0m     \u001b[0;31m# To ensure multimetric format is not supported\u001b[0m\u001b[0;34m\u001b[0m\u001b[0;34m\u001b[0m\u001b[0;34m\u001b[0m\u001b[0m\n\u001b[0;32m--> 384\u001b[0;31m     \u001b[0mscorer\u001b[0m \u001b[0;34m=\u001b[0m \u001b[0mcheck_scoring\u001b[0m\u001b[0;34m(\u001b[0m\u001b[0mestimator\u001b[0m\u001b[0;34m,\u001b[0m \u001b[0mscoring\u001b[0m\u001b[0;34m=\u001b[0m\u001b[0mscoring\u001b[0m\u001b[0;34m)\u001b[0m\u001b[0;34m\u001b[0m\u001b[0;34m\u001b[0m\u001b[0m\n\u001b[0m\u001b[1;32m    385\u001b[0m \u001b[0;34m\u001b[0m\u001b[0m\n\u001b[1;32m    386\u001b[0m     cv_results = cross_validate(estimator=estimator, X=X, y=y, groups=groups,\n",
      "\u001b[0;32m~/opt/anaconda3/lib/python3.7/site-packages/sklearn/metrics/scorer.py\u001b[0m in \u001b[0;36mcheck_scoring\u001b[0;34m(estimator, scoring, allow_none)\u001b[0m\n\u001b[1;32m    268\u001b[0m     \u001b[0;32mif\u001b[0m \u001b[0;32mnot\u001b[0m \u001b[0mhasattr\u001b[0m\u001b[0;34m(\u001b[0m\u001b[0mestimator\u001b[0m\u001b[0;34m,\u001b[0m \u001b[0;34m'fit'\u001b[0m\u001b[0;34m)\u001b[0m\u001b[0;34m:\u001b[0m\u001b[0;34m\u001b[0m\u001b[0;34m\u001b[0m\u001b[0m\n\u001b[1;32m    269\u001b[0m         raise TypeError(\"estimator should be an estimator implementing \"\n\u001b[0;32m--> 270\u001b[0;31m                         \"'fit' method, %r was passed\" % estimator)\n\u001b[0m\u001b[1;32m    271\u001b[0m     \u001b[0;32mif\u001b[0m \u001b[0misinstance\u001b[0m\u001b[0;34m(\u001b[0m\u001b[0mscoring\u001b[0m\u001b[0;34m,\u001b[0m \u001b[0mstr\u001b[0m\u001b[0;34m)\u001b[0m\u001b[0;34m:\u001b[0m\u001b[0;34m\u001b[0m\u001b[0;34m\u001b[0m\u001b[0m\n\u001b[1;32m    272\u001b[0m         \u001b[0;32mreturn\u001b[0m \u001b[0mget_scorer\u001b[0m\u001b[0;34m(\u001b[0m\u001b[0mscoring\u001b[0m\u001b[0;34m)\u001b[0m\u001b[0;34m\u001b[0m\u001b[0;34m\u001b[0m\u001b[0m\n",
      "\u001b[0;31mTypeError\u001b[0m: estimator should be an estimator implementing 'fit' method, array([-2048.38169093,  -896.26083709, -1356.94222757, -1238.80833122,\n       -3418.88508226,  -752.60616106, -1599.17119843, -1745.45125246,\n       -4310.16788636, -3880.98399135]) was passed"
     ]
    }
   ],
   "source": [
    "scores = cross_val_score(rfr, fet, elon_price, cv=10, scoring='neg_mean_absolute_error')"
   ]
  },
  {
   "cell_type": "code",
   "execution_count": 55,
   "metadata": {},
   "outputs": [
    {
     "ename": "TypeError",
     "evalue": "Cannot clone object 'array([-2015.44120798,  -816.45893733, -1372.48862109, -1035.05907168,\n       -3370.94465553,  -664.42894126, -1334.6409081 , -1754.83843109,\n       -4067.3808656 , -3767.39502778])' (type <class 'numpy.ndarray'>): it does not seem to be a scikit-learn estimator as it does not implement a 'get_params' methods.",
     "output_type": "error",
     "traceback": [
      "\u001b[0;31m---------------------------------------------------------------------------\u001b[0m",
      "\u001b[0;31mTypeError\u001b[0m                                 Traceback (most recent call last)",
      "\u001b[0;32m<ipython-input-55-ebfb0315decf>\u001b[0m in \u001b[0;36m<module>\u001b[0;34m\u001b[0m\n\u001b[0;32m----> 1\u001b[0;31m \u001b[0mpredictions\u001b[0m \u001b[0;34m=\u001b[0m \u001b[0mcross_val_predict\u001b[0m\u001b[0;34m(\u001b[0m\u001b[0mrfr\u001b[0m\u001b[0;34m,\u001b[0m \u001b[0melon_fet\u001b[0m\u001b[0;34m,\u001b[0m \u001b[0mcv\u001b[0m\u001b[0;34m=\u001b[0m\u001b[0;36m3\u001b[0m\u001b[0;34m)\u001b[0m\u001b[0;34m\u001b[0m\u001b[0;34m\u001b[0m\u001b[0m\n\u001b[0m",
      "\u001b[0;32m~/opt/anaconda3/lib/python3.7/site-packages/sklearn/model_selection/_validation.py\u001b[0m in \u001b[0;36mcross_val_predict\u001b[0;34m(estimator, X, y, groups, cv, n_jobs, verbose, fit_params, pre_dispatch, method)\u001b[0m\n\u001b[1;32m    787\u001b[0m     prediction_blocks = parallel(delayed(_fit_and_predict)(\n\u001b[1;32m    788\u001b[0m         clone(estimator), X, y, train, test, verbose, fit_params, method)\n\u001b[0;32m--> 789\u001b[0;31m         for train, test in cv.split(X, y, groups))\n\u001b[0m\u001b[1;32m    790\u001b[0m \u001b[0;34m\u001b[0m\u001b[0m\n\u001b[1;32m    791\u001b[0m     \u001b[0;31m# Concatenate the predictions\u001b[0m\u001b[0;34m\u001b[0m\u001b[0;34m\u001b[0m\u001b[0;34m\u001b[0m\u001b[0m\n",
      "\u001b[0;32m~/opt/anaconda3/lib/python3.7/site-packages/joblib/parallel.py\u001b[0m in \u001b[0;36m__call__\u001b[0;34m(self, iterable)\u001b[0m\n\u001b[1;32m    919\u001b[0m             \u001b[0;31m# remaining jobs.\u001b[0m\u001b[0;34m\u001b[0m\u001b[0;34m\u001b[0m\u001b[0;34m\u001b[0m\u001b[0m\n\u001b[1;32m    920\u001b[0m             \u001b[0mself\u001b[0m\u001b[0;34m.\u001b[0m\u001b[0m_iterating\u001b[0m \u001b[0;34m=\u001b[0m \u001b[0;32mFalse\u001b[0m\u001b[0;34m\u001b[0m\u001b[0;34m\u001b[0m\u001b[0m\n\u001b[0;32m--> 921\u001b[0;31m             \u001b[0;32mif\u001b[0m \u001b[0mself\u001b[0m\u001b[0;34m.\u001b[0m\u001b[0mdispatch_one_batch\u001b[0m\u001b[0;34m(\u001b[0m\u001b[0miterator\u001b[0m\u001b[0;34m)\u001b[0m\u001b[0;34m:\u001b[0m\u001b[0;34m\u001b[0m\u001b[0;34m\u001b[0m\u001b[0m\n\u001b[0m\u001b[1;32m    922\u001b[0m                 \u001b[0mself\u001b[0m\u001b[0;34m.\u001b[0m\u001b[0m_iterating\u001b[0m \u001b[0;34m=\u001b[0m \u001b[0mself\u001b[0m\u001b[0;34m.\u001b[0m\u001b[0m_original_iterator\u001b[0m \u001b[0;32mis\u001b[0m \u001b[0;32mnot\u001b[0m \u001b[0;32mNone\u001b[0m\u001b[0;34m\u001b[0m\u001b[0;34m\u001b[0m\u001b[0m\n\u001b[1;32m    923\u001b[0m \u001b[0;34m\u001b[0m\u001b[0m\n",
      "\u001b[0;32m~/opt/anaconda3/lib/python3.7/site-packages/joblib/parallel.py\u001b[0m in \u001b[0;36mdispatch_one_batch\u001b[0;34m(self, iterator)\u001b[0m\n\u001b[1;32m    752\u001b[0m             tasks = BatchedCalls(itertools.islice(iterator, batch_size),\n\u001b[1;32m    753\u001b[0m                                  \u001b[0mself\u001b[0m\u001b[0;34m.\u001b[0m\u001b[0m_backend\u001b[0m\u001b[0;34m.\u001b[0m\u001b[0mget_nested_backend\u001b[0m\u001b[0;34m(\u001b[0m\u001b[0;34m)\u001b[0m\u001b[0;34m,\u001b[0m\u001b[0;34m\u001b[0m\u001b[0;34m\u001b[0m\u001b[0m\n\u001b[0;32m--> 754\u001b[0;31m                                  self._pickle_cache)\n\u001b[0m\u001b[1;32m    755\u001b[0m             \u001b[0;32mif\u001b[0m \u001b[0mlen\u001b[0m\u001b[0;34m(\u001b[0m\u001b[0mtasks\u001b[0m\u001b[0;34m)\u001b[0m \u001b[0;34m==\u001b[0m \u001b[0;36m0\u001b[0m\u001b[0;34m:\u001b[0m\u001b[0;34m\u001b[0m\u001b[0;34m\u001b[0m\u001b[0m\n\u001b[1;32m    756\u001b[0m                 \u001b[0;31m# No more tasks available in the iterator: tell caller to stop.\u001b[0m\u001b[0;34m\u001b[0m\u001b[0;34m\u001b[0m\u001b[0;34m\u001b[0m\u001b[0m\n",
      "\u001b[0;32m~/opt/anaconda3/lib/python3.7/site-packages/joblib/parallel.py\u001b[0m in \u001b[0;36m__init__\u001b[0;34m(self, iterator_slice, backend_and_jobs, pickle_cache)\u001b[0m\n\u001b[1;32m    208\u001b[0m \u001b[0;34m\u001b[0m\u001b[0m\n\u001b[1;32m    209\u001b[0m     \u001b[0;32mdef\u001b[0m \u001b[0m__init__\u001b[0m\u001b[0;34m(\u001b[0m\u001b[0mself\u001b[0m\u001b[0;34m,\u001b[0m \u001b[0miterator_slice\u001b[0m\u001b[0;34m,\u001b[0m \u001b[0mbackend_and_jobs\u001b[0m\u001b[0;34m,\u001b[0m \u001b[0mpickle_cache\u001b[0m\u001b[0;34m=\u001b[0m\u001b[0;32mNone\u001b[0m\u001b[0;34m)\u001b[0m\u001b[0;34m:\u001b[0m\u001b[0;34m\u001b[0m\u001b[0;34m\u001b[0m\u001b[0m\n\u001b[0;32m--> 210\u001b[0;31m         \u001b[0mself\u001b[0m\u001b[0;34m.\u001b[0m\u001b[0mitems\u001b[0m \u001b[0;34m=\u001b[0m \u001b[0mlist\u001b[0m\u001b[0;34m(\u001b[0m\u001b[0miterator_slice\u001b[0m\u001b[0;34m)\u001b[0m\u001b[0;34m\u001b[0m\u001b[0;34m\u001b[0m\u001b[0m\n\u001b[0m\u001b[1;32m    211\u001b[0m         \u001b[0mself\u001b[0m\u001b[0;34m.\u001b[0m\u001b[0m_size\u001b[0m \u001b[0;34m=\u001b[0m \u001b[0mlen\u001b[0m\u001b[0;34m(\u001b[0m\u001b[0mself\u001b[0m\u001b[0;34m.\u001b[0m\u001b[0mitems\u001b[0m\u001b[0;34m)\u001b[0m\u001b[0;34m\u001b[0m\u001b[0;34m\u001b[0m\u001b[0m\n\u001b[1;32m    212\u001b[0m         \u001b[0;32mif\u001b[0m \u001b[0misinstance\u001b[0m\u001b[0;34m(\u001b[0m\u001b[0mbackend_and_jobs\u001b[0m\u001b[0;34m,\u001b[0m \u001b[0mtuple\u001b[0m\u001b[0;34m)\u001b[0m\u001b[0;34m:\u001b[0m\u001b[0;34m\u001b[0m\u001b[0;34m\u001b[0m\u001b[0m\n",
      "\u001b[0;32m~/opt/anaconda3/lib/python3.7/site-packages/sklearn/model_selection/_validation.py\u001b[0m in \u001b[0;36m<genexpr>\u001b[0;34m(.0)\u001b[0m\n\u001b[1;32m    787\u001b[0m     prediction_blocks = parallel(delayed(_fit_and_predict)(\n\u001b[1;32m    788\u001b[0m         clone(estimator), X, y, train, test, verbose, fit_params, method)\n\u001b[0;32m--> 789\u001b[0;31m         for train, test in cv.split(X, y, groups))\n\u001b[0m\u001b[1;32m    790\u001b[0m \u001b[0;34m\u001b[0m\u001b[0m\n\u001b[1;32m    791\u001b[0m     \u001b[0;31m# Concatenate the predictions\u001b[0m\u001b[0;34m\u001b[0m\u001b[0;34m\u001b[0m\u001b[0;34m\u001b[0m\u001b[0m\n",
      "\u001b[0;32m~/opt/anaconda3/lib/python3.7/site-packages/sklearn/base.py\u001b[0m in \u001b[0;36mclone\u001b[0;34m(estimator, safe)\u001b[0m\n\u001b[1;32m     58\u001b[0m                             \u001b[0;34m\"it does not seem to be a scikit-learn estimator \"\u001b[0m\u001b[0;34m\u001b[0m\u001b[0;34m\u001b[0m\u001b[0m\n\u001b[1;32m     59\u001b[0m                             \u001b[0;34m\"as it does not implement a 'get_params' methods.\"\u001b[0m\u001b[0;34m\u001b[0m\u001b[0;34m\u001b[0m\u001b[0m\n\u001b[0;32m---> 60\u001b[0;31m                             % (repr(estimator), type(estimator)))\n\u001b[0m\u001b[1;32m     61\u001b[0m     \u001b[0mklass\u001b[0m \u001b[0;34m=\u001b[0m \u001b[0mestimator\u001b[0m\u001b[0;34m.\u001b[0m\u001b[0m__class__\u001b[0m\u001b[0;34m\u001b[0m\u001b[0;34m\u001b[0m\u001b[0m\n\u001b[1;32m     62\u001b[0m     \u001b[0mnew_object_params\u001b[0m \u001b[0;34m=\u001b[0m \u001b[0mestimator\u001b[0m\u001b[0;34m.\u001b[0m\u001b[0mget_params\u001b[0m\u001b[0;34m(\u001b[0m\u001b[0mdeep\u001b[0m\u001b[0;34m=\u001b[0m\u001b[0;32mFalse\u001b[0m\u001b[0;34m)\u001b[0m\u001b[0;34m\u001b[0m\u001b[0;34m\u001b[0m\u001b[0m\n",
      "\u001b[0;31mTypeError\u001b[0m: Cannot clone object 'array([-2015.44120798,  -816.45893733, -1372.48862109, -1035.05907168,\n       -3370.94465553,  -664.42894126, -1334.6409081 , -1754.83843109,\n       -4067.3808656 , -3767.39502778])' (type <class 'numpy.ndarray'>): it does not seem to be a scikit-learn estimator as it does not implement a 'get_params' methods."
     ]
    }
   ],
   "source": [
    "predictions = cross_val_predict(rfr, elon_fet, cv=3)"
   ]
  },
  {
   "cell_type": "code",
   "execution_count": 61,
   "metadata": {},
   "outputs": [],
   "source": [
    "rf_model_e = RandomForestRegressor(random_state=1,n_estimators=10)"
   ]
  },
  {
   "cell_type": "code",
   "execution_count": 70,
   "metadata": {},
   "outputs": [
    {
     "name": "stdout",
     "output_type": "stream",
     "text": [
      "[-2316.05792001  -925.47012705 -1512.69242204 -1236.608047\n",
      " -3172.26750008  -778.56304703 -1273.71933594 -1907.14279507\n",
      " -4038.54919732 -4308.20937481]\n"
     ]
    }
   ],
   "source": [
    "accuracy = cross_val_score(rf_model_e, fet, elon_price, scoring='neg_mean_absolute_error', cv = 10)\n",
    "print(accuracy)"
   ]
  },
  {
   "cell_type": "code",
   "execution_count": 71,
   "metadata": {},
   "outputs": [],
   "source": [
    "predictions = cross_val_predict(rf_model_e, fet, elon_price, cv=10)"
   ]
  },
  {
   "cell_type": "code",
   "execution_count": 78,
   "metadata": {},
   "outputs": [
    {
     "name": "stdout",
     "output_type": "stream",
     "text": [
      "[ 8448.3440917  9788.5992187  5225.5457034  5225.5457034  5225.5457034\n",
      " 32923.7582034  9957.7828125 10058.5637695  9795.1549804  9714.4471191\n",
      " 11143.8722659  9337.9585938  8987.3106448  9578.4138674  9416.1716797\n",
      " 10746.7934571  5493.0003909  5493.0003909  5838.6681643 46947.3480471\n",
      " 48776.7132815 45338.4164063 47044.0511721 55641.4648437 55941.3566406\n",
      " 56115.5234376 62003.5031251 59302.316406  59195.316406  62110.5031251\n",
      " 56726.2890626 50402.0722661 49093.2093754 43419.7742191 46218.9882816\n",
      " 33096.089844  33096.089844  32218.0806643 32218.0806643 33096.089844\n",
      " 34049.9261721 34049.9261721 34049.9261721 45026.0785159 45026.0785159\n",
      " 42725.0929689 37867.0749998 37867.0749998 37867.0749998 47451.0355472\n",
      " 46753.9281253 46615.7980472 48346.5882813 56816.6601564 58232.3816409\n",
      " 58457.1285159 56982.5929688 57963.005469  54831.6117189 50376.2003908\n",
      " 59655.7800781 59655.7800781 57277.4410155 56610.5644531 56672.8972658\n",
      " 58955.4625    58955.4625    58955.4625    58955.4625    58955.4625\n",
      " 50493.8976566 49390.1332031 49837.7117186 45482.9550784 56317.9699219\n",
      " 57222.0726565 49925.3398436 50097.8238279 48966.253125  46957.6402347\n",
      " 40491.8675779 40491.8675779 40491.8675779 40491.8675779 39956.108203\n",
      " 39956.108203  39956.108203  31917.4150392 45924.3246095 46680.0179689\n",
      " 45877.7488281 39259.1884764 46641.176172  46680.0179689 45877.7488281\n",
      " 39259.1884764 46641.176172 ]\n",
      "0      8336.555664\n",
      "1     11011.102539\n",
      "2      4879.877930\n",
      "3      4879.877930\n",
      "4      4879.877930\n",
      "          ...     \n",
      "92    43099.699219\n",
      "93    39400.585938\n",
      "94    42451.789063\n",
      "95    36954.003906\n",
      "96    43099.699219\n",
      "Name: Close, Length: 97, dtype: float64\n"
     ]
    }
   ],
   "source": [
    "print(predictions)\n",
    "print(elon['Close'])"
   ]
  },
  {
   "cell_type": "code",
   "execution_count": 91,
   "metadata": {},
   "outputs": [
    {
     "name": "stdout",
     "output_type": "stream",
     "text": [
      "[-2316.05792001  -925.47012705 -1512.69242204 -1236.608047\n",
      " -3172.26750008  -778.56304703 -1273.71933594 -1907.14279507\n",
      " -4038.54919732 -4308.20937481]\n",
      "Accuracy of Model with Cross Validation is: -2146.927976635002\n"
     ]
    }
   ],
   "source": [
    "import pandas as pd\n",
    "import numpy as np\n",
    "from sklearn.metrics import accuracy_score, confusion_matrix\n",
    "from sklearn.ensemble import RandomForestClassifier\n",
    "from sklearn import svm\n",
    "from sklearn.model_selection import cross_val_score\n",
    "#read csv file\n",
    "\n",
    "\n",
    "\n",
    "accuracy = cross_val_score(rf_model_e, fet, elon_price, scoring='neg_mean_absolute_error', cv = 10)\n",
    "print(accuracy)\n",
    "#get the mean of each fold \n",
    "print(\"Accuracy of Model with Cross Validation is:\",accuracy.mean())"
   ]
  },
  {
   "cell_type": "code",
   "execution_count": 92,
   "metadata": {},
   "outputs": [
    {
     "name": "stderr",
     "output_type": "stream",
     "text": [
      "/Users/arjun/opt/anaconda3/lib/python3.7/site-packages/sklearn/model_selection/_search.py:814: DeprecationWarning: The default of the `iid` parameter will change from True to False in version 0.22 and will be removed in 0.24. This will change numeric results when test-set sizes are unequal.\n",
      "  DeprecationWarning)\n"
     ]
    }
   ],
   "source": [
    "gsc = GridSearchCV(\n",
    "        estimator=RandomForestRegressor(),\n",
    "        param_grid={\n",
    "            'max_depth': range(3,7),\n",
    "            'n_estimators': (10, 50, 100, 1000),\n",
    "        },\n",
    "        cv=5, scoring='neg_mean_squared_error', verbose=0,                         n_jobs=-1)\n",
    "    \n",
    "grid_result = gsc.fit(fet, elon_price)\n",
    "best_params = grid_result.best_params_\n",
    "    "
   ]
  },
  {
   "cell_type": "code",
   "execution_count": 94,
   "metadata": {},
   "outputs": [
    {
     "data": {
      "text/plain": [
       "{'max_depth': 6, 'n_estimators': 50}"
      ]
     },
     "execution_count": 94,
     "metadata": {},
     "output_type": "execute_result"
    }
   ],
   "source": [
    "best_params"
   ]
  },
  {
   "cell_type": "code",
   "execution_count": 95,
   "metadata": {},
   "outputs": [],
   "source": [
    "rf = RandomForestRegressor(random_state=1,n_estimators=50, max_depth=6)"
   ]
  },
  {
   "cell_type": "code",
   "execution_count": 96,
   "metadata": {},
   "outputs": [],
   "source": [
    "accuracy_rf = cross_val_score(rf, fet, elon_price, scoring='neg_mean_absolute_error', cv = 11)"
   ]
  },
  {
   "cell_type": "code",
   "execution_count": 97,
   "metadata": {},
   "outputs": [
    {
     "data": {
      "text/plain": [
       "array([-1997.92509075,  -700.58580507, -1292.8758022 , -1492.93642142,\n",
       "       -1466.16461151, -1828.63585314, -1236.38206983, -1419.29608445,\n",
       "       -1721.01425217, -2362.66140207, -3395.3238684 ])"
      ]
     },
     "execution_count": 97,
     "metadata": {},
     "output_type": "execute_result"
    }
   ],
   "source": [
    "accuracy_rf"
   ]
  },
  {
   "cell_type": "code",
   "execution_count": 98,
   "metadata": {},
   "outputs": [],
   "source": [
    "accuracy_rf_1 = cross_val_predict(rf,fet,elon_price,cv=11)"
   ]
  },
  {
   "cell_type": "code",
   "execution_count": 101,
   "metadata": {},
   "outputs": [
    {
     "data": {
      "text/plain": [
       "97"
      ]
     },
     "execution_count": 101,
     "metadata": {},
     "output_type": "execute_result"
    }
   ],
   "source": [
    "len(accuracy_rf_1)"
   ]
  },
  {
   "cell_type": "code",
   "execution_count": 100,
   "metadata": {},
   "outputs": [
    {
     "name": "stdout",
     "output_type": "stream",
     "text": [
      "1695.528103902383\n"
     ]
    }
   ],
   "source": [
    "print(mean_absolute_error(accuracy_rf_1,elon_price))"
   ]
  },
  {
   "cell_type": "code",
   "execution_count": null,
   "metadata": {},
   "outputs": [],
   "source": []
  }
 ],
 "metadata": {
  "kernelspec": {
   "display_name": "Python 3",
   "language": "python",
   "name": "python3"
  },
  "language_info": {
   "codemirror_mode": {
    "name": "ipython",
    "version": 3
   },
   "file_extension": ".py",
   "mimetype": "text/x-python",
   "name": "python",
   "nbconvert_exporter": "python",
   "pygments_lexer": "ipython3",
   "version": "3.7.4"
  }
 },
 "nbformat": 4,
 "nbformat_minor": 2
}
